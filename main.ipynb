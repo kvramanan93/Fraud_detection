{
 "cells": [
  {
   "cell_type": "code",
   "id": "initial_id",
   "metadata": {
    "collapsed": true,
    "ExecuteTime": {
     "end_time": "2024-08-18T12:16:33.748554Z",
     "start_time": "2024-08-18T12:16:19.166836Z"
    }
   },
   "source": [
    "#Imported Libraries\n",
    "\n",
    "import numpy as np # linear algebra\n",
    "import pandas as pd # data processing, CSV file I/O (e.g. pd.read_csv)\n",
    "import tensorflow as tf\n",
    "import matplotlib.pyplot as plt\n",
    "import seaborn as sns\n",
    "from sklearn.manifold import TSNE\n",
    "from sklearn.decomposition import PCA, TruncatedSVD\n",
    "import matplotlib.patches as mpatches\n",
    "import time\n",
    "\n",
    "# Classifier Libraries\n",
    "from sklearn.linear_model import LogisticRegression\n",
    "from sklearn.svm import SVC\n",
    "from sklearn.neighbors import KNeighborsClassifier\n",
    "from sklearn.tree import DecisionTreeClassifier\n",
    "from sklearn.ensemble import RandomForestClassifier\n",
    "import collections\n",
    "\n",
    "\n",
    "# Other Libraries\n",
    "from sklearn.model_selection import train_test_split\n",
    "from sklearn.pipeline import make_pipeline\n",
    "from imblearn.pipeline import make_pipeline as imbalanced_make_pipeline\n",
    "from imblearn.over_sampling import SMOTE\n",
    "from imblearn.under_sampling import NearMiss\n",
    "from imblearn.metrics import classification_report_imbalanced\n",
    "from sklearn.metrics import precision_score, recall_score, f1_score, roc_auc_score, accuracy_score, classification_report\n",
    "from collections import Counter\n",
    "from sklearn.model_selection import KFold, StratifiedKFold\n",
    "import warnings\n",
    "warnings.filterwarnings(\"ignore\")\n",
    "\n",
    "df = pd.read_csv('Fraud.csv')\n",
    "df.head()"
   ],
   "outputs": [
    {
     "data": {
      "text/plain": [
       "   step      type    amount     nameOrig  oldbalanceOrg  newbalanceOrig  \\\n",
       "0     1   PAYMENT   9839.64  C1231006815       170136.0       160296.36   \n",
       "1     1   PAYMENT   1864.28  C1666544295        21249.0        19384.72   \n",
       "2     1  TRANSFER    181.00  C1305486145          181.0            0.00   \n",
       "3     1  CASH_OUT    181.00   C840083671          181.0            0.00   \n",
       "4     1   PAYMENT  11668.14  C2048537720        41554.0        29885.86   \n",
       "\n",
       "      nameDest  oldbalanceDest  newbalanceDest  isFraud  isFlaggedFraud  \n",
       "0  M1979787155             0.0             0.0        0               0  \n",
       "1  M2044282225             0.0             0.0        0               0  \n",
       "2   C553264065             0.0             0.0        1               0  \n",
       "3    C38997010         21182.0             0.0        1               0  \n",
       "4  M1230701703             0.0             0.0        0               0  "
      ],
      "text/html": [
       "<div>\n",
       "<style scoped>\n",
       "    .dataframe tbody tr th:only-of-type {\n",
       "        vertical-align: middle;\n",
       "    }\n",
       "\n",
       "    .dataframe tbody tr th {\n",
       "        vertical-align: top;\n",
       "    }\n",
       "\n",
       "    .dataframe thead th {\n",
       "        text-align: right;\n",
       "    }\n",
       "</style>\n",
       "<table border=\"1\" class=\"dataframe\">\n",
       "  <thead>\n",
       "    <tr style=\"text-align: right;\">\n",
       "      <th></th>\n",
       "      <th>step</th>\n",
       "      <th>type</th>\n",
       "      <th>amount</th>\n",
       "      <th>nameOrig</th>\n",
       "      <th>oldbalanceOrg</th>\n",
       "      <th>newbalanceOrig</th>\n",
       "      <th>nameDest</th>\n",
       "      <th>oldbalanceDest</th>\n",
       "      <th>newbalanceDest</th>\n",
       "      <th>isFraud</th>\n",
       "      <th>isFlaggedFraud</th>\n",
       "    </tr>\n",
       "  </thead>\n",
       "  <tbody>\n",
       "    <tr>\n",
       "      <th>0</th>\n",
       "      <td>1</td>\n",
       "      <td>PAYMENT</td>\n",
       "      <td>9839.64</td>\n",
       "      <td>C1231006815</td>\n",
       "      <td>170136.0</td>\n",
       "      <td>160296.36</td>\n",
       "      <td>M1979787155</td>\n",
       "      <td>0.0</td>\n",
       "      <td>0.0</td>\n",
       "      <td>0</td>\n",
       "      <td>0</td>\n",
       "    </tr>\n",
       "    <tr>\n",
       "      <th>1</th>\n",
       "      <td>1</td>\n",
       "      <td>PAYMENT</td>\n",
       "      <td>1864.28</td>\n",
       "      <td>C1666544295</td>\n",
       "      <td>21249.0</td>\n",
       "      <td>19384.72</td>\n",
       "      <td>M2044282225</td>\n",
       "      <td>0.0</td>\n",
       "      <td>0.0</td>\n",
       "      <td>0</td>\n",
       "      <td>0</td>\n",
       "    </tr>\n",
       "    <tr>\n",
       "      <th>2</th>\n",
       "      <td>1</td>\n",
       "      <td>TRANSFER</td>\n",
       "      <td>181.00</td>\n",
       "      <td>C1305486145</td>\n",
       "      <td>181.0</td>\n",
       "      <td>0.00</td>\n",
       "      <td>C553264065</td>\n",
       "      <td>0.0</td>\n",
       "      <td>0.0</td>\n",
       "      <td>1</td>\n",
       "      <td>0</td>\n",
       "    </tr>\n",
       "    <tr>\n",
       "      <th>3</th>\n",
       "      <td>1</td>\n",
       "      <td>CASH_OUT</td>\n",
       "      <td>181.00</td>\n",
       "      <td>C840083671</td>\n",
       "      <td>181.0</td>\n",
       "      <td>0.00</td>\n",
       "      <td>C38997010</td>\n",
       "      <td>21182.0</td>\n",
       "      <td>0.0</td>\n",
       "      <td>1</td>\n",
       "      <td>0</td>\n",
       "    </tr>\n",
       "    <tr>\n",
       "      <th>4</th>\n",
       "      <td>1</td>\n",
       "      <td>PAYMENT</td>\n",
       "      <td>11668.14</td>\n",
       "      <td>C2048537720</td>\n",
       "      <td>41554.0</td>\n",
       "      <td>29885.86</td>\n",
       "      <td>M1230701703</td>\n",
       "      <td>0.0</td>\n",
       "      <td>0.0</td>\n",
       "      <td>0</td>\n",
       "      <td>0</td>\n",
       "    </tr>\n",
       "  </tbody>\n",
       "</table>\n",
       "</div>"
      ]
     },
     "execution_count": 1,
     "metadata": {},
     "output_type": "execute_result"
    }
   ],
   "execution_count": 1
  },
  {
   "metadata": {
    "ExecuteTime": {
     "end_time": "2024-08-18T12:16:33.761669Z",
     "start_time": "2024-08-18T12:16:33.749404Z"
    }
   },
   "cell_type": "code",
   "source": "df.head(10)",
   "id": "e1bc8aced2419e19",
   "outputs": [
    {
     "data": {
      "text/plain": [
       "   step      type    amount     nameOrig  oldbalanceOrg  newbalanceOrig  \\\n",
       "0     1   PAYMENT   9839.64  C1231006815      170136.00       160296.36   \n",
       "1     1   PAYMENT   1864.28  C1666544295       21249.00        19384.72   \n",
       "2     1  TRANSFER    181.00  C1305486145         181.00            0.00   \n",
       "3     1  CASH_OUT    181.00   C840083671         181.00            0.00   \n",
       "4     1   PAYMENT  11668.14  C2048537720       41554.00        29885.86   \n",
       "5     1   PAYMENT   7817.71    C90045638       53860.00        46042.29   \n",
       "6     1   PAYMENT   7107.77   C154988899      183195.00       176087.23   \n",
       "7     1   PAYMENT   7861.64  C1912850431      176087.23       168225.59   \n",
       "8     1   PAYMENT   4024.36  C1265012928        2671.00            0.00   \n",
       "9     1     DEBIT   5337.77   C712410124       41720.00        36382.23   \n",
       "\n",
       "      nameDest  oldbalanceDest  newbalanceDest  isFraud  isFlaggedFraud  \n",
       "0  M1979787155             0.0            0.00        0               0  \n",
       "1  M2044282225             0.0            0.00        0               0  \n",
       "2   C553264065             0.0            0.00        1               0  \n",
       "3    C38997010         21182.0            0.00        1               0  \n",
       "4  M1230701703             0.0            0.00        0               0  \n",
       "5   M573487274             0.0            0.00        0               0  \n",
       "6   M408069119             0.0            0.00        0               0  \n",
       "7   M633326333             0.0            0.00        0               0  \n",
       "8  M1176932104             0.0            0.00        0               0  \n",
       "9   C195600860         41898.0        40348.79        0               0  "
      ],
      "text/html": [
       "<div>\n",
       "<style scoped>\n",
       "    .dataframe tbody tr th:only-of-type {\n",
       "        vertical-align: middle;\n",
       "    }\n",
       "\n",
       "    .dataframe tbody tr th {\n",
       "        vertical-align: top;\n",
       "    }\n",
       "\n",
       "    .dataframe thead th {\n",
       "        text-align: right;\n",
       "    }\n",
       "</style>\n",
       "<table border=\"1\" class=\"dataframe\">\n",
       "  <thead>\n",
       "    <tr style=\"text-align: right;\">\n",
       "      <th></th>\n",
       "      <th>step</th>\n",
       "      <th>type</th>\n",
       "      <th>amount</th>\n",
       "      <th>nameOrig</th>\n",
       "      <th>oldbalanceOrg</th>\n",
       "      <th>newbalanceOrig</th>\n",
       "      <th>nameDest</th>\n",
       "      <th>oldbalanceDest</th>\n",
       "      <th>newbalanceDest</th>\n",
       "      <th>isFraud</th>\n",
       "      <th>isFlaggedFraud</th>\n",
       "    </tr>\n",
       "  </thead>\n",
       "  <tbody>\n",
       "    <tr>\n",
       "      <th>0</th>\n",
       "      <td>1</td>\n",
       "      <td>PAYMENT</td>\n",
       "      <td>9839.64</td>\n",
       "      <td>C1231006815</td>\n",
       "      <td>170136.00</td>\n",
       "      <td>160296.36</td>\n",
       "      <td>M1979787155</td>\n",
       "      <td>0.0</td>\n",
       "      <td>0.00</td>\n",
       "      <td>0</td>\n",
       "      <td>0</td>\n",
       "    </tr>\n",
       "    <tr>\n",
       "      <th>1</th>\n",
       "      <td>1</td>\n",
       "      <td>PAYMENT</td>\n",
       "      <td>1864.28</td>\n",
       "      <td>C1666544295</td>\n",
       "      <td>21249.00</td>\n",
       "      <td>19384.72</td>\n",
       "      <td>M2044282225</td>\n",
       "      <td>0.0</td>\n",
       "      <td>0.00</td>\n",
       "      <td>0</td>\n",
       "      <td>0</td>\n",
       "    </tr>\n",
       "    <tr>\n",
       "      <th>2</th>\n",
       "      <td>1</td>\n",
       "      <td>TRANSFER</td>\n",
       "      <td>181.00</td>\n",
       "      <td>C1305486145</td>\n",
       "      <td>181.00</td>\n",
       "      <td>0.00</td>\n",
       "      <td>C553264065</td>\n",
       "      <td>0.0</td>\n",
       "      <td>0.00</td>\n",
       "      <td>1</td>\n",
       "      <td>0</td>\n",
       "    </tr>\n",
       "    <tr>\n",
       "      <th>3</th>\n",
       "      <td>1</td>\n",
       "      <td>CASH_OUT</td>\n",
       "      <td>181.00</td>\n",
       "      <td>C840083671</td>\n",
       "      <td>181.00</td>\n",
       "      <td>0.00</td>\n",
       "      <td>C38997010</td>\n",
       "      <td>21182.0</td>\n",
       "      <td>0.00</td>\n",
       "      <td>1</td>\n",
       "      <td>0</td>\n",
       "    </tr>\n",
       "    <tr>\n",
       "      <th>4</th>\n",
       "      <td>1</td>\n",
       "      <td>PAYMENT</td>\n",
       "      <td>11668.14</td>\n",
       "      <td>C2048537720</td>\n",
       "      <td>41554.00</td>\n",
       "      <td>29885.86</td>\n",
       "      <td>M1230701703</td>\n",
       "      <td>0.0</td>\n",
       "      <td>0.00</td>\n",
       "      <td>0</td>\n",
       "      <td>0</td>\n",
       "    </tr>\n",
       "    <tr>\n",
       "      <th>5</th>\n",
       "      <td>1</td>\n",
       "      <td>PAYMENT</td>\n",
       "      <td>7817.71</td>\n",
       "      <td>C90045638</td>\n",
       "      <td>53860.00</td>\n",
       "      <td>46042.29</td>\n",
       "      <td>M573487274</td>\n",
       "      <td>0.0</td>\n",
       "      <td>0.00</td>\n",
       "      <td>0</td>\n",
       "      <td>0</td>\n",
       "    </tr>\n",
       "    <tr>\n",
       "      <th>6</th>\n",
       "      <td>1</td>\n",
       "      <td>PAYMENT</td>\n",
       "      <td>7107.77</td>\n",
       "      <td>C154988899</td>\n",
       "      <td>183195.00</td>\n",
       "      <td>176087.23</td>\n",
       "      <td>M408069119</td>\n",
       "      <td>0.0</td>\n",
       "      <td>0.00</td>\n",
       "      <td>0</td>\n",
       "      <td>0</td>\n",
       "    </tr>\n",
       "    <tr>\n",
       "      <th>7</th>\n",
       "      <td>1</td>\n",
       "      <td>PAYMENT</td>\n",
       "      <td>7861.64</td>\n",
       "      <td>C1912850431</td>\n",
       "      <td>176087.23</td>\n",
       "      <td>168225.59</td>\n",
       "      <td>M633326333</td>\n",
       "      <td>0.0</td>\n",
       "      <td>0.00</td>\n",
       "      <td>0</td>\n",
       "      <td>0</td>\n",
       "    </tr>\n",
       "    <tr>\n",
       "      <th>8</th>\n",
       "      <td>1</td>\n",
       "      <td>PAYMENT</td>\n",
       "      <td>4024.36</td>\n",
       "      <td>C1265012928</td>\n",
       "      <td>2671.00</td>\n",
       "      <td>0.00</td>\n",
       "      <td>M1176932104</td>\n",
       "      <td>0.0</td>\n",
       "      <td>0.00</td>\n",
       "      <td>0</td>\n",
       "      <td>0</td>\n",
       "    </tr>\n",
       "    <tr>\n",
       "      <th>9</th>\n",
       "      <td>1</td>\n",
       "      <td>DEBIT</td>\n",
       "      <td>5337.77</td>\n",
       "      <td>C712410124</td>\n",
       "      <td>41720.00</td>\n",
       "      <td>36382.23</td>\n",
       "      <td>C195600860</td>\n",
       "      <td>41898.0</td>\n",
       "      <td>40348.79</td>\n",
       "      <td>0</td>\n",
       "      <td>0</td>\n",
       "    </tr>\n",
       "  </tbody>\n",
       "</table>\n",
       "</div>"
      ]
     },
     "execution_count": 2,
     "metadata": {},
     "output_type": "execute_result"
    }
   ],
   "execution_count": 2
  },
  {
   "metadata": {
    "ExecuteTime": {
     "end_time": "2024-08-18T12:16:35.431610Z",
     "start_time": "2024-08-18T12:16:33.762631Z"
    }
   },
   "cell_type": "code",
   "source": [
    "# General idea about dataset\n",
    "df.describe()"
   ],
   "id": "f8656a22ae301e38",
   "outputs": [
    {
     "data": {
      "text/plain": [
       "               step        amount  oldbalanceOrg  newbalanceOrig  \\\n",
       "count  6.362620e+06  6.362620e+06   6.362620e+06    6.362620e+06   \n",
       "mean   2.433972e+02  1.798619e+05   8.338831e+05    8.551137e+05   \n",
       "std    1.423320e+02  6.038582e+05   2.888243e+06    2.924049e+06   \n",
       "min    1.000000e+00  0.000000e+00   0.000000e+00    0.000000e+00   \n",
       "25%    1.560000e+02  1.338957e+04   0.000000e+00    0.000000e+00   \n",
       "50%    2.390000e+02  7.487194e+04   1.420800e+04    0.000000e+00   \n",
       "75%    3.350000e+02  2.087215e+05   1.073152e+05    1.442584e+05   \n",
       "max    7.430000e+02  9.244552e+07   5.958504e+07    4.958504e+07   \n",
       "\n",
       "       oldbalanceDest  newbalanceDest       isFraud  isFlaggedFraud  \n",
       "count    6.362620e+06    6.362620e+06  6.362620e+06    6.362620e+06  \n",
       "mean     1.100702e+06    1.224996e+06  1.290820e-03    2.514687e-06  \n",
       "std      3.399180e+06    3.674129e+06  3.590480e-02    1.585775e-03  \n",
       "min      0.000000e+00    0.000000e+00  0.000000e+00    0.000000e+00  \n",
       "25%      0.000000e+00    0.000000e+00  0.000000e+00    0.000000e+00  \n",
       "50%      1.327057e+05    2.146614e+05  0.000000e+00    0.000000e+00  \n",
       "75%      9.430367e+05    1.111909e+06  0.000000e+00    0.000000e+00  \n",
       "max      3.560159e+08    3.561793e+08  1.000000e+00    1.000000e+00  "
      ],
      "text/html": [
       "<div>\n",
       "<style scoped>\n",
       "    .dataframe tbody tr th:only-of-type {\n",
       "        vertical-align: middle;\n",
       "    }\n",
       "\n",
       "    .dataframe tbody tr th {\n",
       "        vertical-align: top;\n",
       "    }\n",
       "\n",
       "    .dataframe thead th {\n",
       "        text-align: right;\n",
       "    }\n",
       "</style>\n",
       "<table border=\"1\" class=\"dataframe\">\n",
       "  <thead>\n",
       "    <tr style=\"text-align: right;\">\n",
       "      <th></th>\n",
       "      <th>step</th>\n",
       "      <th>amount</th>\n",
       "      <th>oldbalanceOrg</th>\n",
       "      <th>newbalanceOrig</th>\n",
       "      <th>oldbalanceDest</th>\n",
       "      <th>newbalanceDest</th>\n",
       "      <th>isFraud</th>\n",
       "      <th>isFlaggedFraud</th>\n",
       "    </tr>\n",
       "  </thead>\n",
       "  <tbody>\n",
       "    <tr>\n",
       "      <th>count</th>\n",
       "      <td>6.362620e+06</td>\n",
       "      <td>6.362620e+06</td>\n",
       "      <td>6.362620e+06</td>\n",
       "      <td>6.362620e+06</td>\n",
       "      <td>6.362620e+06</td>\n",
       "      <td>6.362620e+06</td>\n",
       "      <td>6.362620e+06</td>\n",
       "      <td>6.362620e+06</td>\n",
       "    </tr>\n",
       "    <tr>\n",
       "      <th>mean</th>\n",
       "      <td>2.433972e+02</td>\n",
       "      <td>1.798619e+05</td>\n",
       "      <td>8.338831e+05</td>\n",
       "      <td>8.551137e+05</td>\n",
       "      <td>1.100702e+06</td>\n",
       "      <td>1.224996e+06</td>\n",
       "      <td>1.290820e-03</td>\n",
       "      <td>2.514687e-06</td>\n",
       "    </tr>\n",
       "    <tr>\n",
       "      <th>std</th>\n",
       "      <td>1.423320e+02</td>\n",
       "      <td>6.038582e+05</td>\n",
       "      <td>2.888243e+06</td>\n",
       "      <td>2.924049e+06</td>\n",
       "      <td>3.399180e+06</td>\n",
       "      <td>3.674129e+06</td>\n",
       "      <td>3.590480e-02</td>\n",
       "      <td>1.585775e-03</td>\n",
       "    </tr>\n",
       "    <tr>\n",
       "      <th>min</th>\n",
       "      <td>1.000000e+00</td>\n",
       "      <td>0.000000e+00</td>\n",
       "      <td>0.000000e+00</td>\n",
       "      <td>0.000000e+00</td>\n",
       "      <td>0.000000e+00</td>\n",
       "      <td>0.000000e+00</td>\n",
       "      <td>0.000000e+00</td>\n",
       "      <td>0.000000e+00</td>\n",
       "    </tr>\n",
       "    <tr>\n",
       "      <th>25%</th>\n",
       "      <td>1.560000e+02</td>\n",
       "      <td>1.338957e+04</td>\n",
       "      <td>0.000000e+00</td>\n",
       "      <td>0.000000e+00</td>\n",
       "      <td>0.000000e+00</td>\n",
       "      <td>0.000000e+00</td>\n",
       "      <td>0.000000e+00</td>\n",
       "      <td>0.000000e+00</td>\n",
       "    </tr>\n",
       "    <tr>\n",
       "      <th>50%</th>\n",
       "      <td>2.390000e+02</td>\n",
       "      <td>7.487194e+04</td>\n",
       "      <td>1.420800e+04</td>\n",
       "      <td>0.000000e+00</td>\n",
       "      <td>1.327057e+05</td>\n",
       "      <td>2.146614e+05</td>\n",
       "      <td>0.000000e+00</td>\n",
       "      <td>0.000000e+00</td>\n",
       "    </tr>\n",
       "    <tr>\n",
       "      <th>75%</th>\n",
       "      <td>3.350000e+02</td>\n",
       "      <td>2.087215e+05</td>\n",
       "      <td>1.073152e+05</td>\n",
       "      <td>1.442584e+05</td>\n",
       "      <td>9.430367e+05</td>\n",
       "      <td>1.111909e+06</td>\n",
       "      <td>0.000000e+00</td>\n",
       "      <td>0.000000e+00</td>\n",
       "    </tr>\n",
       "    <tr>\n",
       "      <th>max</th>\n",
       "      <td>7.430000e+02</td>\n",
       "      <td>9.244552e+07</td>\n",
       "      <td>5.958504e+07</td>\n",
       "      <td>4.958504e+07</td>\n",
       "      <td>3.560159e+08</td>\n",
       "      <td>3.561793e+08</td>\n",
       "      <td>1.000000e+00</td>\n",
       "      <td>1.000000e+00</td>\n",
       "    </tr>\n",
       "  </tbody>\n",
       "</table>\n",
       "</div>"
      ]
     },
     "execution_count": 3,
     "metadata": {},
     "output_type": "execute_result"
    }
   ],
   "execution_count": 3
  },
  {
   "metadata": {
    "ExecuteTime": {
     "end_time": "2024-08-18T12:16:36.006591Z",
     "start_time": "2024-08-18T12:16:35.432889Z"
    }
   },
   "cell_type": "code",
   "source": [
    "#Checking for nullValues in the dataframe\n",
    "df.isnull().sum()"
   ],
   "id": "50e53e9c4e2e19d4",
   "outputs": [
    {
     "data": {
      "text/plain": [
       "step              0\n",
       "type              0\n",
       "amount            0\n",
       "nameOrig          0\n",
       "oldbalanceOrg     0\n",
       "newbalanceOrig    0\n",
       "nameDest          0\n",
       "oldbalanceDest    0\n",
       "newbalanceDest    0\n",
       "isFraud           0\n",
       "isFlaggedFraud    0\n",
       "dtype: int64"
      ]
     },
     "execution_count": 4,
     "metadata": {},
     "output_type": "execute_result"
    }
   ],
   "execution_count": 4
  },
  {
   "metadata": {
    "ExecuteTime": {
     "end_time": "2024-08-18T12:16:36.016655Z",
     "start_time": "2024-08-18T12:16:36.010131Z"
    }
   },
   "cell_type": "code",
   "source": "df.columns",
   "id": "cb041d92d41f50db",
   "outputs": [
    {
     "data": {
      "text/plain": [
       "Index(['step', 'type', 'amount', 'nameOrig', 'oldbalanceOrg', 'newbalanceOrig',\n",
       "       'nameDest', 'oldbalanceDest', 'newbalanceDest', 'isFraud',\n",
       "       'isFlaggedFraud'],\n",
       "      dtype='object')"
      ]
     },
     "execution_count": 5,
     "metadata": {},
     "output_type": "execute_result"
    }
   ],
   "execution_count": 5
  },
  {
   "metadata": {
    "ExecuteTime": {
     "end_time": "2024-08-18T12:16:36.583949Z",
     "start_time": "2024-08-18T12:16:36.017665Z"
    }
   },
   "cell_type": "code",
   "source": [
    "payment_filtered = df[df['type'] == 'PAYMENT']\n",
    "payment_filtered.head()"
   ],
   "id": "1406542101fc76fc",
   "outputs": [
    {
     "data": {
      "text/plain": [
       "   step     type    amount     nameOrig  oldbalanceOrg  newbalanceOrig  \\\n",
       "0     1  PAYMENT   9839.64  C1231006815       170136.0       160296.36   \n",
       "1     1  PAYMENT   1864.28  C1666544295        21249.0        19384.72   \n",
       "4     1  PAYMENT  11668.14  C2048537720        41554.0        29885.86   \n",
       "5     1  PAYMENT   7817.71    C90045638        53860.0        46042.29   \n",
       "6     1  PAYMENT   7107.77   C154988899       183195.0       176087.23   \n",
       "\n",
       "      nameDest  oldbalanceDest  newbalanceDest  isFraud  isFlaggedFraud  \n",
       "0  M1979787155             0.0             0.0        0               0  \n",
       "1  M2044282225             0.0             0.0        0               0  \n",
       "4  M1230701703             0.0             0.0        0               0  \n",
       "5   M573487274             0.0             0.0        0               0  \n",
       "6   M408069119             0.0             0.0        0               0  "
      ],
      "text/html": [
       "<div>\n",
       "<style scoped>\n",
       "    .dataframe tbody tr th:only-of-type {\n",
       "        vertical-align: middle;\n",
       "    }\n",
       "\n",
       "    .dataframe tbody tr th {\n",
       "        vertical-align: top;\n",
       "    }\n",
       "\n",
       "    .dataframe thead th {\n",
       "        text-align: right;\n",
       "    }\n",
       "</style>\n",
       "<table border=\"1\" class=\"dataframe\">\n",
       "  <thead>\n",
       "    <tr style=\"text-align: right;\">\n",
       "      <th></th>\n",
       "      <th>step</th>\n",
       "      <th>type</th>\n",
       "      <th>amount</th>\n",
       "      <th>nameOrig</th>\n",
       "      <th>oldbalanceOrg</th>\n",
       "      <th>newbalanceOrig</th>\n",
       "      <th>nameDest</th>\n",
       "      <th>oldbalanceDest</th>\n",
       "      <th>newbalanceDest</th>\n",
       "      <th>isFraud</th>\n",
       "      <th>isFlaggedFraud</th>\n",
       "    </tr>\n",
       "  </thead>\n",
       "  <tbody>\n",
       "    <tr>\n",
       "      <th>0</th>\n",
       "      <td>1</td>\n",
       "      <td>PAYMENT</td>\n",
       "      <td>9839.64</td>\n",
       "      <td>C1231006815</td>\n",
       "      <td>170136.0</td>\n",
       "      <td>160296.36</td>\n",
       "      <td>M1979787155</td>\n",
       "      <td>0.0</td>\n",
       "      <td>0.0</td>\n",
       "      <td>0</td>\n",
       "      <td>0</td>\n",
       "    </tr>\n",
       "    <tr>\n",
       "      <th>1</th>\n",
       "      <td>1</td>\n",
       "      <td>PAYMENT</td>\n",
       "      <td>1864.28</td>\n",
       "      <td>C1666544295</td>\n",
       "      <td>21249.0</td>\n",
       "      <td>19384.72</td>\n",
       "      <td>M2044282225</td>\n",
       "      <td>0.0</td>\n",
       "      <td>0.0</td>\n",
       "      <td>0</td>\n",
       "      <td>0</td>\n",
       "    </tr>\n",
       "    <tr>\n",
       "      <th>4</th>\n",
       "      <td>1</td>\n",
       "      <td>PAYMENT</td>\n",
       "      <td>11668.14</td>\n",
       "      <td>C2048537720</td>\n",
       "      <td>41554.0</td>\n",
       "      <td>29885.86</td>\n",
       "      <td>M1230701703</td>\n",
       "      <td>0.0</td>\n",
       "      <td>0.0</td>\n",
       "      <td>0</td>\n",
       "      <td>0</td>\n",
       "    </tr>\n",
       "    <tr>\n",
       "      <th>5</th>\n",
       "      <td>1</td>\n",
       "      <td>PAYMENT</td>\n",
       "      <td>7817.71</td>\n",
       "      <td>C90045638</td>\n",
       "      <td>53860.0</td>\n",
       "      <td>46042.29</td>\n",
       "      <td>M573487274</td>\n",
       "      <td>0.0</td>\n",
       "      <td>0.0</td>\n",
       "      <td>0</td>\n",
       "      <td>0</td>\n",
       "    </tr>\n",
       "    <tr>\n",
       "      <th>6</th>\n",
       "      <td>1</td>\n",
       "      <td>PAYMENT</td>\n",
       "      <td>7107.77</td>\n",
       "      <td>C154988899</td>\n",
       "      <td>183195.0</td>\n",
       "      <td>176087.23</td>\n",
       "      <td>M408069119</td>\n",
       "      <td>0.0</td>\n",
       "      <td>0.0</td>\n",
       "      <td>0</td>\n",
       "      <td>0</td>\n",
       "    </tr>\n",
       "  </tbody>\n",
       "</table>\n",
       "</div>"
      ]
     },
     "execution_count": 6,
     "metadata": {},
     "output_type": "execute_result"
    }
   ],
   "execution_count": 6
  },
  {
   "metadata": {
    "ExecuteTime": {
     "end_time": "2024-08-18T12:16:37.255741Z",
     "start_time": "2024-08-18T12:16:36.592498Z"
    }
   },
   "cell_type": "code",
   "source": [
    "payment_filtered.describe()\n",
    "#No frauds if the type is PAYMENT"
   ],
   "id": "62aa20909256ee30",
   "outputs": [
    {
     "data": {
      "text/plain": [
       "               step        amount  oldbalanceOrg  newbalanceOrig  \\\n",
       "count  2.151495e+06  2.151495e+06   2.151495e+06    2.151495e+06   \n",
       "mean   2.443782e+02  1.305760e+04   6.821683e+04    6.183789e+04   \n",
       "std    1.426951e+02  1.255645e+04   1.989911e+05    1.969915e+05   \n",
       "min    1.000000e+00  2.000000e-02   0.000000e+00    0.000000e+00   \n",
       "25%    1.560000e+02  4.383820e+03   0.000000e+00    0.000000e+00   \n",
       "50%    2.490000e+02  9.482190e+03   1.053000e+04    0.000000e+00   \n",
       "75%    3.350000e+02  1.756122e+04   6.088300e+04    4.965413e+04   \n",
       "max    7.180000e+02  2.386380e+05   4.368662e+07    4.367380e+07   \n",
       "\n",
       "       oldbalanceDest  newbalanceDest    isFraud  isFlaggedFraud  \n",
       "count       2151495.0       2151495.0  2151495.0       2151495.0  \n",
       "mean              0.0             0.0        0.0             0.0  \n",
       "std               0.0             0.0        0.0             0.0  \n",
       "min               0.0             0.0        0.0             0.0  \n",
       "25%               0.0             0.0        0.0             0.0  \n",
       "50%               0.0             0.0        0.0             0.0  \n",
       "75%               0.0             0.0        0.0             0.0  \n",
       "max               0.0             0.0        0.0             0.0  "
      ],
      "text/html": [
       "<div>\n",
       "<style scoped>\n",
       "    .dataframe tbody tr th:only-of-type {\n",
       "        vertical-align: middle;\n",
       "    }\n",
       "\n",
       "    .dataframe tbody tr th {\n",
       "        vertical-align: top;\n",
       "    }\n",
       "\n",
       "    .dataframe thead th {\n",
       "        text-align: right;\n",
       "    }\n",
       "</style>\n",
       "<table border=\"1\" class=\"dataframe\">\n",
       "  <thead>\n",
       "    <tr style=\"text-align: right;\">\n",
       "      <th></th>\n",
       "      <th>step</th>\n",
       "      <th>amount</th>\n",
       "      <th>oldbalanceOrg</th>\n",
       "      <th>newbalanceOrig</th>\n",
       "      <th>oldbalanceDest</th>\n",
       "      <th>newbalanceDest</th>\n",
       "      <th>isFraud</th>\n",
       "      <th>isFlaggedFraud</th>\n",
       "    </tr>\n",
       "  </thead>\n",
       "  <tbody>\n",
       "    <tr>\n",
       "      <th>count</th>\n",
       "      <td>2.151495e+06</td>\n",
       "      <td>2.151495e+06</td>\n",
       "      <td>2.151495e+06</td>\n",
       "      <td>2.151495e+06</td>\n",
       "      <td>2151495.0</td>\n",
       "      <td>2151495.0</td>\n",
       "      <td>2151495.0</td>\n",
       "      <td>2151495.0</td>\n",
       "    </tr>\n",
       "    <tr>\n",
       "      <th>mean</th>\n",
       "      <td>2.443782e+02</td>\n",
       "      <td>1.305760e+04</td>\n",
       "      <td>6.821683e+04</td>\n",
       "      <td>6.183789e+04</td>\n",
       "      <td>0.0</td>\n",
       "      <td>0.0</td>\n",
       "      <td>0.0</td>\n",
       "      <td>0.0</td>\n",
       "    </tr>\n",
       "    <tr>\n",
       "      <th>std</th>\n",
       "      <td>1.426951e+02</td>\n",
       "      <td>1.255645e+04</td>\n",
       "      <td>1.989911e+05</td>\n",
       "      <td>1.969915e+05</td>\n",
       "      <td>0.0</td>\n",
       "      <td>0.0</td>\n",
       "      <td>0.0</td>\n",
       "      <td>0.0</td>\n",
       "    </tr>\n",
       "    <tr>\n",
       "      <th>min</th>\n",
       "      <td>1.000000e+00</td>\n",
       "      <td>2.000000e-02</td>\n",
       "      <td>0.000000e+00</td>\n",
       "      <td>0.000000e+00</td>\n",
       "      <td>0.0</td>\n",
       "      <td>0.0</td>\n",
       "      <td>0.0</td>\n",
       "      <td>0.0</td>\n",
       "    </tr>\n",
       "    <tr>\n",
       "      <th>25%</th>\n",
       "      <td>1.560000e+02</td>\n",
       "      <td>4.383820e+03</td>\n",
       "      <td>0.000000e+00</td>\n",
       "      <td>0.000000e+00</td>\n",
       "      <td>0.0</td>\n",
       "      <td>0.0</td>\n",
       "      <td>0.0</td>\n",
       "      <td>0.0</td>\n",
       "    </tr>\n",
       "    <tr>\n",
       "      <th>50%</th>\n",
       "      <td>2.490000e+02</td>\n",
       "      <td>9.482190e+03</td>\n",
       "      <td>1.053000e+04</td>\n",
       "      <td>0.000000e+00</td>\n",
       "      <td>0.0</td>\n",
       "      <td>0.0</td>\n",
       "      <td>0.0</td>\n",
       "      <td>0.0</td>\n",
       "    </tr>\n",
       "    <tr>\n",
       "      <th>75%</th>\n",
       "      <td>3.350000e+02</td>\n",
       "      <td>1.756122e+04</td>\n",
       "      <td>6.088300e+04</td>\n",
       "      <td>4.965413e+04</td>\n",
       "      <td>0.0</td>\n",
       "      <td>0.0</td>\n",
       "      <td>0.0</td>\n",
       "      <td>0.0</td>\n",
       "    </tr>\n",
       "    <tr>\n",
       "      <th>max</th>\n",
       "      <td>7.180000e+02</td>\n",
       "      <td>2.386380e+05</td>\n",
       "      <td>4.368662e+07</td>\n",
       "      <td>4.367380e+07</td>\n",
       "      <td>0.0</td>\n",
       "      <td>0.0</td>\n",
       "      <td>0.0</td>\n",
       "      <td>0.0</td>\n",
       "    </tr>\n",
       "  </tbody>\n",
       "</table>\n",
       "</div>"
      ]
     },
     "execution_count": 7,
     "metadata": {},
     "output_type": "execute_result"
    }
   ],
   "execution_count": 7
  },
  {
   "metadata": {
    "ExecuteTime": {
     "end_time": "2024-08-18T12:16:37.969261Z",
     "start_time": "2024-08-18T12:16:37.261116Z"
    }
   },
   "cell_type": "code",
   "source": [
    "Transfer_Filter = df[df['type'] == 'TRANSFER']\n",
    "Transfer_Filter.describe()\n",
    "#Potential frauds been detected only in TRANSFER AND CASH_IN"
   ],
   "id": "cf3ab4e518e5c55e",
   "outputs": [
    {
     "data": {
      "text/plain": [
       "                step        amount  oldbalanceOrg  newbalanceOrig  \\\n",
       "count  532909.000000  5.329090e+05   5.329090e+05    5.329090e+05   \n",
       "mean      246.657304  9.106470e+05   5.444185e+04    1.028816e+04   \n",
       "std       145.015876  1.879574e+06   4.399818e+05    2.623603e+05   \n",
       "min         1.000000  2.600000e+00   0.000000e+00    0.000000e+00   \n",
       "25%       156.000000  2.159054e+05   0.000000e+00    0.000000e+00   \n",
       "50%       250.000000  4.863084e+05   0.000000e+00    0.000000e+00   \n",
       "75%       346.000000  9.749580e+05   2.626600e+04    0.000000e+00   \n",
       "max       743.000000  9.244552e+07   5.958504e+07    4.958504e+07   \n",
       "\n",
       "       oldbalanceDest  newbalanceDest        isFraud  isFlaggedFraud  \n",
       "count    5.329090e+05    5.329090e+05  532909.000000   532909.000000  \n",
       "mean     2.567606e+06    3.554567e+06       0.007688        0.000030  \n",
       "std      6.037846e+06    7.387614e+06       0.087344        0.005479  \n",
       "min      0.000000e+00    0.000000e+00       0.000000        0.000000  \n",
       "25%      2.249354e+05    7.536934e+05       0.000000        0.000000  \n",
       "50%      1.015903e+06    1.725375e+06       0.000000        0.000000  \n",
       "75%      2.753798e+06    3.795986e+06       0.000000        0.000000  \n",
       "max      3.553805e+08    3.560159e+08       1.000000        1.000000  "
      ],
      "text/html": [
       "<div>\n",
       "<style scoped>\n",
       "    .dataframe tbody tr th:only-of-type {\n",
       "        vertical-align: middle;\n",
       "    }\n",
       "\n",
       "    .dataframe tbody tr th {\n",
       "        vertical-align: top;\n",
       "    }\n",
       "\n",
       "    .dataframe thead th {\n",
       "        text-align: right;\n",
       "    }\n",
       "</style>\n",
       "<table border=\"1\" class=\"dataframe\">\n",
       "  <thead>\n",
       "    <tr style=\"text-align: right;\">\n",
       "      <th></th>\n",
       "      <th>step</th>\n",
       "      <th>amount</th>\n",
       "      <th>oldbalanceOrg</th>\n",
       "      <th>newbalanceOrig</th>\n",
       "      <th>oldbalanceDest</th>\n",
       "      <th>newbalanceDest</th>\n",
       "      <th>isFraud</th>\n",
       "      <th>isFlaggedFraud</th>\n",
       "    </tr>\n",
       "  </thead>\n",
       "  <tbody>\n",
       "    <tr>\n",
       "      <th>count</th>\n",
       "      <td>532909.000000</td>\n",
       "      <td>5.329090e+05</td>\n",
       "      <td>5.329090e+05</td>\n",
       "      <td>5.329090e+05</td>\n",
       "      <td>5.329090e+05</td>\n",
       "      <td>5.329090e+05</td>\n",
       "      <td>532909.000000</td>\n",
       "      <td>532909.000000</td>\n",
       "    </tr>\n",
       "    <tr>\n",
       "      <th>mean</th>\n",
       "      <td>246.657304</td>\n",
       "      <td>9.106470e+05</td>\n",
       "      <td>5.444185e+04</td>\n",
       "      <td>1.028816e+04</td>\n",
       "      <td>2.567606e+06</td>\n",
       "      <td>3.554567e+06</td>\n",
       "      <td>0.007688</td>\n",
       "      <td>0.000030</td>\n",
       "    </tr>\n",
       "    <tr>\n",
       "      <th>std</th>\n",
       "      <td>145.015876</td>\n",
       "      <td>1.879574e+06</td>\n",
       "      <td>4.399818e+05</td>\n",
       "      <td>2.623603e+05</td>\n",
       "      <td>6.037846e+06</td>\n",
       "      <td>7.387614e+06</td>\n",
       "      <td>0.087344</td>\n",
       "      <td>0.005479</td>\n",
       "    </tr>\n",
       "    <tr>\n",
       "      <th>min</th>\n",
       "      <td>1.000000</td>\n",
       "      <td>2.600000e+00</td>\n",
       "      <td>0.000000e+00</td>\n",
       "      <td>0.000000e+00</td>\n",
       "      <td>0.000000e+00</td>\n",
       "      <td>0.000000e+00</td>\n",
       "      <td>0.000000</td>\n",
       "      <td>0.000000</td>\n",
       "    </tr>\n",
       "    <tr>\n",
       "      <th>25%</th>\n",
       "      <td>156.000000</td>\n",
       "      <td>2.159054e+05</td>\n",
       "      <td>0.000000e+00</td>\n",
       "      <td>0.000000e+00</td>\n",
       "      <td>2.249354e+05</td>\n",
       "      <td>7.536934e+05</td>\n",
       "      <td>0.000000</td>\n",
       "      <td>0.000000</td>\n",
       "    </tr>\n",
       "    <tr>\n",
       "      <th>50%</th>\n",
       "      <td>250.000000</td>\n",
       "      <td>4.863084e+05</td>\n",
       "      <td>0.000000e+00</td>\n",
       "      <td>0.000000e+00</td>\n",
       "      <td>1.015903e+06</td>\n",
       "      <td>1.725375e+06</td>\n",
       "      <td>0.000000</td>\n",
       "      <td>0.000000</td>\n",
       "    </tr>\n",
       "    <tr>\n",
       "      <th>75%</th>\n",
       "      <td>346.000000</td>\n",
       "      <td>9.749580e+05</td>\n",
       "      <td>2.626600e+04</td>\n",
       "      <td>0.000000e+00</td>\n",
       "      <td>2.753798e+06</td>\n",
       "      <td>3.795986e+06</td>\n",
       "      <td>0.000000</td>\n",
       "      <td>0.000000</td>\n",
       "    </tr>\n",
       "    <tr>\n",
       "      <th>max</th>\n",
       "      <td>743.000000</td>\n",
       "      <td>9.244552e+07</td>\n",
       "      <td>5.958504e+07</td>\n",
       "      <td>4.958504e+07</td>\n",
       "      <td>3.553805e+08</td>\n",
       "      <td>3.560159e+08</td>\n",
       "      <td>1.000000</td>\n",
       "      <td>1.000000</td>\n",
       "    </tr>\n",
       "  </tbody>\n",
       "</table>\n",
       "</div>"
      ]
     },
     "execution_count": 8,
     "metadata": {},
     "output_type": "execute_result"
    }
   ],
   "execution_count": 8
  },
  {
   "metadata": {
    "ExecuteTime": {
     "end_time": "2024-08-18T12:16:39.173463Z",
     "start_time": "2024-08-18T12:16:37.971273Z"
    }
   },
   "cell_type": "code",
   "source": [
    "from sklearn.preprocessing import LabelEncoder\n",
    "\n",
    "label_encoder = LabelEncoder()\n",
    "df['type_encoded'] = label_encoder.fit_transform(df['type'])\n",
    "df.head()\n",
    "\n",
    "# 1 - CASH_OUT 2 - DEBIT 3 - PAYMENT 4 - TRANSFER"
   ],
   "id": "a7205867784fd6e3",
   "outputs": [
    {
     "data": {
      "text/plain": [
       "   step      type    amount     nameOrig  oldbalanceOrg  newbalanceOrig  \\\n",
       "0     1   PAYMENT   9839.64  C1231006815       170136.0       160296.36   \n",
       "1     1   PAYMENT   1864.28  C1666544295        21249.0        19384.72   \n",
       "2     1  TRANSFER    181.00  C1305486145          181.0            0.00   \n",
       "3     1  CASH_OUT    181.00   C840083671          181.0            0.00   \n",
       "4     1   PAYMENT  11668.14  C2048537720        41554.0        29885.86   \n",
       "\n",
       "      nameDest  oldbalanceDest  newbalanceDest  isFraud  isFlaggedFraud  \\\n",
       "0  M1979787155             0.0             0.0        0               0   \n",
       "1  M2044282225             0.0             0.0        0               0   \n",
       "2   C553264065             0.0             0.0        1               0   \n",
       "3    C38997010         21182.0             0.0        1               0   \n",
       "4  M1230701703             0.0             0.0        0               0   \n",
       "\n",
       "   type_encoded  \n",
       "0             3  \n",
       "1             3  \n",
       "2             4  \n",
       "3             1  \n",
       "4             3  "
      ],
      "text/html": [
       "<div>\n",
       "<style scoped>\n",
       "    .dataframe tbody tr th:only-of-type {\n",
       "        vertical-align: middle;\n",
       "    }\n",
       "\n",
       "    .dataframe tbody tr th {\n",
       "        vertical-align: top;\n",
       "    }\n",
       "\n",
       "    .dataframe thead th {\n",
       "        text-align: right;\n",
       "    }\n",
       "</style>\n",
       "<table border=\"1\" class=\"dataframe\">\n",
       "  <thead>\n",
       "    <tr style=\"text-align: right;\">\n",
       "      <th></th>\n",
       "      <th>step</th>\n",
       "      <th>type</th>\n",
       "      <th>amount</th>\n",
       "      <th>nameOrig</th>\n",
       "      <th>oldbalanceOrg</th>\n",
       "      <th>newbalanceOrig</th>\n",
       "      <th>nameDest</th>\n",
       "      <th>oldbalanceDest</th>\n",
       "      <th>newbalanceDest</th>\n",
       "      <th>isFraud</th>\n",
       "      <th>isFlaggedFraud</th>\n",
       "      <th>type_encoded</th>\n",
       "    </tr>\n",
       "  </thead>\n",
       "  <tbody>\n",
       "    <tr>\n",
       "      <th>0</th>\n",
       "      <td>1</td>\n",
       "      <td>PAYMENT</td>\n",
       "      <td>9839.64</td>\n",
       "      <td>C1231006815</td>\n",
       "      <td>170136.0</td>\n",
       "      <td>160296.36</td>\n",
       "      <td>M1979787155</td>\n",
       "      <td>0.0</td>\n",
       "      <td>0.0</td>\n",
       "      <td>0</td>\n",
       "      <td>0</td>\n",
       "      <td>3</td>\n",
       "    </tr>\n",
       "    <tr>\n",
       "      <th>1</th>\n",
       "      <td>1</td>\n",
       "      <td>PAYMENT</td>\n",
       "      <td>1864.28</td>\n",
       "      <td>C1666544295</td>\n",
       "      <td>21249.0</td>\n",
       "      <td>19384.72</td>\n",
       "      <td>M2044282225</td>\n",
       "      <td>0.0</td>\n",
       "      <td>0.0</td>\n",
       "      <td>0</td>\n",
       "      <td>0</td>\n",
       "      <td>3</td>\n",
       "    </tr>\n",
       "    <tr>\n",
       "      <th>2</th>\n",
       "      <td>1</td>\n",
       "      <td>TRANSFER</td>\n",
       "      <td>181.00</td>\n",
       "      <td>C1305486145</td>\n",
       "      <td>181.0</td>\n",
       "      <td>0.00</td>\n",
       "      <td>C553264065</td>\n",
       "      <td>0.0</td>\n",
       "      <td>0.0</td>\n",
       "      <td>1</td>\n",
       "      <td>0</td>\n",
       "      <td>4</td>\n",
       "    </tr>\n",
       "    <tr>\n",
       "      <th>3</th>\n",
       "      <td>1</td>\n",
       "      <td>CASH_OUT</td>\n",
       "      <td>181.00</td>\n",
       "      <td>C840083671</td>\n",
       "      <td>181.0</td>\n",
       "      <td>0.00</td>\n",
       "      <td>C38997010</td>\n",
       "      <td>21182.0</td>\n",
       "      <td>0.0</td>\n",
       "      <td>1</td>\n",
       "      <td>0</td>\n",
       "      <td>1</td>\n",
       "    </tr>\n",
       "    <tr>\n",
       "      <th>4</th>\n",
       "      <td>1</td>\n",
       "      <td>PAYMENT</td>\n",
       "      <td>11668.14</td>\n",
       "      <td>C2048537720</td>\n",
       "      <td>41554.0</td>\n",
       "      <td>29885.86</td>\n",
       "      <td>M1230701703</td>\n",
       "      <td>0.0</td>\n",
       "      <td>0.0</td>\n",
       "      <td>0</td>\n",
       "      <td>0</td>\n",
       "      <td>3</td>\n",
       "    </tr>\n",
       "  </tbody>\n",
       "</table>\n",
       "</div>"
      ]
     },
     "execution_count": 9,
     "metadata": {},
     "output_type": "execute_result"
    }
   ],
   "execution_count": 9
  },
  {
   "metadata": {
    "ExecuteTime": {
     "end_time": "2024-08-18T12:16:40.899053Z",
     "start_time": "2024-08-18T12:16:39.175472Z"
    }
   },
   "cell_type": "code",
   "source": "df.describe()",
   "id": "bec40d5ce9027c37",
   "outputs": [
    {
     "data": {
      "text/plain": [
       "               step        amount  oldbalanceOrg  newbalanceOrig  \\\n",
       "count  6.362620e+06  6.362620e+06   6.362620e+06    6.362620e+06   \n",
       "mean   2.433972e+02  1.798619e+05   8.338831e+05    8.551137e+05   \n",
       "std    1.423320e+02  6.038582e+05   2.888243e+06    2.924049e+06   \n",
       "min    1.000000e+00  0.000000e+00   0.000000e+00    0.000000e+00   \n",
       "25%    1.560000e+02  1.338957e+04   0.000000e+00    0.000000e+00   \n",
       "50%    2.390000e+02  7.487194e+04   1.420800e+04    0.000000e+00   \n",
       "75%    3.350000e+02  2.087215e+05   1.073152e+05    1.442584e+05   \n",
       "max    7.430000e+02  9.244552e+07   5.958504e+07    4.958504e+07   \n",
       "\n",
       "       oldbalanceDest  newbalanceDest       isFraud  isFlaggedFraud  \\\n",
       "count    6.362620e+06    6.362620e+06  6.362620e+06    6.362620e+06   \n",
       "mean     1.100702e+06    1.224996e+06  1.290820e-03    2.514687e-06   \n",
       "std      3.399180e+06    3.674129e+06  3.590480e-02    1.585775e-03   \n",
       "min      0.000000e+00    0.000000e+00  0.000000e+00    0.000000e+00   \n",
       "25%      0.000000e+00    0.000000e+00  0.000000e+00    0.000000e+00   \n",
       "50%      1.327057e+05    2.146614e+05  0.000000e+00    0.000000e+00   \n",
       "75%      9.430367e+05    1.111909e+06  0.000000e+00    0.000000e+00   \n",
       "max      3.560159e+08    3.561793e+08  1.000000e+00    1.000000e+00   \n",
       "\n",
       "       type_encoded  \n",
       "count  6.362620e+06  \n",
       "mean   1.714150e+00  \n",
       "std    1.350117e+00  \n",
       "min    0.000000e+00  \n",
       "25%    1.000000e+00  \n",
       "50%    1.000000e+00  \n",
       "75%    3.000000e+00  \n",
       "max    4.000000e+00  "
      ],
      "text/html": [
       "<div>\n",
       "<style scoped>\n",
       "    .dataframe tbody tr th:only-of-type {\n",
       "        vertical-align: middle;\n",
       "    }\n",
       "\n",
       "    .dataframe tbody tr th {\n",
       "        vertical-align: top;\n",
       "    }\n",
       "\n",
       "    .dataframe thead th {\n",
       "        text-align: right;\n",
       "    }\n",
       "</style>\n",
       "<table border=\"1\" class=\"dataframe\">\n",
       "  <thead>\n",
       "    <tr style=\"text-align: right;\">\n",
       "      <th></th>\n",
       "      <th>step</th>\n",
       "      <th>amount</th>\n",
       "      <th>oldbalanceOrg</th>\n",
       "      <th>newbalanceOrig</th>\n",
       "      <th>oldbalanceDest</th>\n",
       "      <th>newbalanceDest</th>\n",
       "      <th>isFraud</th>\n",
       "      <th>isFlaggedFraud</th>\n",
       "      <th>type_encoded</th>\n",
       "    </tr>\n",
       "  </thead>\n",
       "  <tbody>\n",
       "    <tr>\n",
       "      <th>count</th>\n",
       "      <td>6.362620e+06</td>\n",
       "      <td>6.362620e+06</td>\n",
       "      <td>6.362620e+06</td>\n",
       "      <td>6.362620e+06</td>\n",
       "      <td>6.362620e+06</td>\n",
       "      <td>6.362620e+06</td>\n",
       "      <td>6.362620e+06</td>\n",
       "      <td>6.362620e+06</td>\n",
       "      <td>6.362620e+06</td>\n",
       "    </tr>\n",
       "    <tr>\n",
       "      <th>mean</th>\n",
       "      <td>2.433972e+02</td>\n",
       "      <td>1.798619e+05</td>\n",
       "      <td>8.338831e+05</td>\n",
       "      <td>8.551137e+05</td>\n",
       "      <td>1.100702e+06</td>\n",
       "      <td>1.224996e+06</td>\n",
       "      <td>1.290820e-03</td>\n",
       "      <td>2.514687e-06</td>\n",
       "      <td>1.714150e+00</td>\n",
       "    </tr>\n",
       "    <tr>\n",
       "      <th>std</th>\n",
       "      <td>1.423320e+02</td>\n",
       "      <td>6.038582e+05</td>\n",
       "      <td>2.888243e+06</td>\n",
       "      <td>2.924049e+06</td>\n",
       "      <td>3.399180e+06</td>\n",
       "      <td>3.674129e+06</td>\n",
       "      <td>3.590480e-02</td>\n",
       "      <td>1.585775e-03</td>\n",
       "      <td>1.350117e+00</td>\n",
       "    </tr>\n",
       "    <tr>\n",
       "      <th>min</th>\n",
       "      <td>1.000000e+00</td>\n",
       "      <td>0.000000e+00</td>\n",
       "      <td>0.000000e+00</td>\n",
       "      <td>0.000000e+00</td>\n",
       "      <td>0.000000e+00</td>\n",
       "      <td>0.000000e+00</td>\n",
       "      <td>0.000000e+00</td>\n",
       "      <td>0.000000e+00</td>\n",
       "      <td>0.000000e+00</td>\n",
       "    </tr>\n",
       "    <tr>\n",
       "      <th>25%</th>\n",
       "      <td>1.560000e+02</td>\n",
       "      <td>1.338957e+04</td>\n",
       "      <td>0.000000e+00</td>\n",
       "      <td>0.000000e+00</td>\n",
       "      <td>0.000000e+00</td>\n",
       "      <td>0.000000e+00</td>\n",
       "      <td>0.000000e+00</td>\n",
       "      <td>0.000000e+00</td>\n",
       "      <td>1.000000e+00</td>\n",
       "    </tr>\n",
       "    <tr>\n",
       "      <th>50%</th>\n",
       "      <td>2.390000e+02</td>\n",
       "      <td>7.487194e+04</td>\n",
       "      <td>1.420800e+04</td>\n",
       "      <td>0.000000e+00</td>\n",
       "      <td>1.327057e+05</td>\n",
       "      <td>2.146614e+05</td>\n",
       "      <td>0.000000e+00</td>\n",
       "      <td>0.000000e+00</td>\n",
       "      <td>1.000000e+00</td>\n",
       "    </tr>\n",
       "    <tr>\n",
       "      <th>75%</th>\n",
       "      <td>3.350000e+02</td>\n",
       "      <td>2.087215e+05</td>\n",
       "      <td>1.073152e+05</td>\n",
       "      <td>1.442584e+05</td>\n",
       "      <td>9.430367e+05</td>\n",
       "      <td>1.111909e+06</td>\n",
       "      <td>0.000000e+00</td>\n",
       "      <td>0.000000e+00</td>\n",
       "      <td>3.000000e+00</td>\n",
       "    </tr>\n",
       "    <tr>\n",
       "      <th>max</th>\n",
       "      <td>7.430000e+02</td>\n",
       "      <td>9.244552e+07</td>\n",
       "      <td>5.958504e+07</td>\n",
       "      <td>4.958504e+07</td>\n",
       "      <td>3.560159e+08</td>\n",
       "      <td>3.561793e+08</td>\n",
       "      <td>1.000000e+00</td>\n",
       "      <td>1.000000e+00</td>\n",
       "      <td>4.000000e+00</td>\n",
       "    </tr>\n",
       "  </tbody>\n",
       "</table>\n",
       "</div>"
      ]
     },
     "execution_count": 10,
     "metadata": {},
     "output_type": "execute_result"
    }
   ],
   "execution_count": 10
  },
  {
   "metadata": {
    "ExecuteTime": {
     "end_time": "2024-08-18T12:16:42.742357Z",
     "start_time": "2024-08-18T12:16:40.899981Z"
    }
   },
   "cell_type": "code",
   "source": "df['nameDest'].nunique()",
   "id": "548d188e407e6b1",
   "outputs": [
    {
     "data": {
      "text/plain": [
       "2722362"
      ]
     },
     "execution_count": 11,
     "metadata": {},
     "output_type": "execute_result"
    }
   ],
   "execution_count": 11
  },
  {
   "metadata": {
    "ExecuteTime": {
     "end_time": "2024-08-18T12:16:42.754166Z",
     "start_time": "2024-08-18T12:16:42.743680Z"
    }
   },
   "cell_type": "code",
   "source": "df['isFlaggedFraud'].sum()",
   "id": "7ff3fa9bef2af8b8",
   "outputs": [
    {
     "data": {
      "text/plain": [
       "16"
      ]
     },
     "execution_count": 12,
     "metadata": {},
     "output_type": "execute_result"
    }
   ],
   "execution_count": 12
  },
  {
   "metadata": {
    "ExecuteTime": {
     "end_time": "2024-08-18T12:16:42.761072Z",
     "start_time": "2024-08-18T12:16:42.755209Z"
    }
   },
   "cell_type": "code",
   "source": "print(df.dtypes)",
   "id": "1e6427aeab64e206",
   "outputs": [
    {
     "name": "stdout",
     "output_type": "stream",
     "text": [
      "step                int64\n",
      "type               object\n",
      "amount            float64\n",
      "nameOrig           object\n",
      "oldbalanceOrg     float64\n",
      "newbalanceOrig    float64\n",
      "nameDest           object\n",
      "oldbalanceDest    float64\n",
      "newbalanceDest    float64\n",
      "isFraud             int64\n",
      "isFlaggedFraud      int64\n",
      "type_encoded        int32\n",
      "dtype: object\n"
     ]
    }
   ],
   "execution_count": 13
  },
  {
   "metadata": {
    "ExecuteTime": {
     "end_time": "2024-08-18T12:16:50.309416Z",
     "start_time": "2024-08-18T12:16:42.762078Z"
    }
   },
   "cell_type": "code",
   "source": [
    "x = df.sort_values(by=[\"type\"])[['type']]\n",
    "x.head()\n",
    "wordsx,countx = np.unique(x.values,return_counts=True)"
   ],
   "id": "82646e2b932ccc25",
   "outputs": [],
   "execution_count": 14
  },
  {
   "metadata": {
    "ExecuteTime": {
     "end_time": "2024-08-18T12:16:50.314713Z",
     "start_time": "2024-08-18T12:16:50.310411Z"
    }
   },
   "cell_type": "code",
   "source": "print(wordsx,'\\n',countx)",
   "id": "41d0b3dfda9fbab2",
   "outputs": [
    {
     "name": "stdout",
     "output_type": "stream",
     "text": [
      "['CASH_IN' 'CASH_OUT' 'DEBIT' 'PAYMENT' 'TRANSFER'] \n",
      " [1399284 2237500   41432 2151495  532909]\n"
     ]
    }
   ],
   "execution_count": 15
  },
  {
   "metadata": {
    "ExecuteTime": {
     "end_time": "2024-08-18T12:16:50.319221Z",
     "start_time": "2024-08-18T12:16:50.315748Z"
    }
   },
   "cell_type": "code",
   "source": [
    "#Checking all types \n",
    "\n",
    "CASH_IN_total = countx[0]/countx.sum() *100\n",
    "CASH_OUT_total = countx[1]/countx.sum() *100\n",
    "DEBIT_total = countx[2]/countx.sum() *100\n",
    "PAYMENT_total = countx[3]/countx.sum() *100\n",
    "TRANSFER_total = countx[4]/countx.sum() *100"
   ],
   "id": "588b9a9925fd97f0",
   "outputs": [],
   "execution_count": 16
  },
  {
   "metadata": {
    "ExecuteTime": {
     "end_time": "2024-08-18T12:16:50.525897Z",
     "start_time": "2024-08-18T12:16:50.320238Z"
    }
   },
   "cell_type": "code",
   "source": [
    "#Plotting to check ratios\n",
    "\n",
    "\n",
    "plt.figure(figsize=[15, 15])\n",
    "plt.bar(wordsx, countx, width=0.7, edgecolor='blueviolet',\n",
    "        color=['yellow','green','purple','blue','orange'], linewidth=2)\n",
    "plt.title('All Types Clients Transactions', fontsize=15)\n",
    "plt.xlabel('type', fontsize=15)\n",
    "plt.ylabel('count', fontsize=15)\n",
    "plt.show()\n",
    "\n"
   ],
   "id": "2b564547e9908291",
   "outputs": [
    {
     "data": {
      "text/plain": [
       "<Figure size 1500x1500 with 1 Axes>"
      ],
      "image/png": "[encoded data removed]"
     },
     "metadata": {},
     "output_type": "display_data"
    }
   ],
   "execution_count": 17
  },
  {
   "metadata": {
    "ExecuteTime": {
     "end_time": "2024-08-18T12:16:50.904167Z",
     "start_time": "2024-08-18T12:16:50.527394Z"
    }
   },
   "cell_type": "code",
   "source": [
    "fraud_counts = df.groupby('type')['isFraud'].sum()\n",
    "fraud_counts\n",
    "\n",
    "#We can see that frauds are limited to only two types, cashout and transfer."
   ],
   "id": "1c6d3b56917edc46",
   "outputs": [
    {
     "data": {
      "text/plain": [
       "type\n",
       "CASH_IN        0\n",
       "CASH_OUT    4116\n",
       "DEBIT          0\n",
       "PAYMENT        0\n",
       "TRANSFER    4097\n",
       "Name: isFraud, dtype: int64"
      ]
     },
     "execution_count": 18,
     "metadata": {},
     "output_type": "execute_result"
    }
   ],
   "execution_count": 18
  },
  {
   "metadata": {
    "ExecuteTime": {
     "end_time": "2024-08-18T12:16:51.004600Z",
     "start_time": "2024-08-18T12:16:50.905186Z"
    }
   },
   "cell_type": "code",
   "source": "fraud_counts.plot(kind='pie')",
   "id": "234c384403c952d9",
   "outputs": [
    {
     "data": {
      "text/plain": [
       "<Axes: ylabel='isFraud'>"
      ]
     },
     "execution_count": 19,
     "metadata": {},
     "output_type": "execute_result"
    },
    {
     "data": {
      "text/plain": [
       "<Figure size 640x480 with 1 Axes>"
      ],
      "image/png": "[encoded data removed]"
     },
     "metadata": {},
     "output_type": "display_data"
    }
   ],
   "execution_count": 19
  },
  {
   "metadata": {
    "ExecuteTime": {
     "end_time": "2024-08-18T12:16:51.392127Z",
     "start_time": "2024-08-18T12:16:51.005613Z"
    }
   },
   "cell_type": "code",
   "source": [
    "fraud_flag_counts = df.groupby('type')['isFlaggedFraud'].sum()\n",
    "fraud_flag_counts.plot(kind='pie')\n",
    "print(fraud_flag_counts)\n",
    "\n",
    "#Flagged only under TRANSFER type"
   ],
   "id": "a50cfb7be737ad02",
   "outputs": [
    {
     "name": "stdout",
     "output_type": "stream",
     "text": [
      "type\n",
      "CASH_IN      0\n",
      "CASH_OUT     0\n",
      "DEBIT        0\n",
      "PAYMENT      0\n",
      "TRANSFER    16\n",
      "Name: isFlaggedFraud, dtype: int64\n"
     ]
    },
    {
     "data": {
      "text/plain": [
       "<Figure size 640x480 with 1 Axes>"
      ],
      "image/png": "[encoded data removed]"
     },
     "metadata": {},
     "output_type": "display_data"
    }
   ],
   "execution_count": 20
  },
  {
   "metadata": {
    "ExecuteTime": {
     "end_time": "2024-08-18T12:16:52.647687Z",
     "start_time": "2024-08-18T12:16:51.393139Z"
    }
   },
   "cell_type": "code",
   "source": [
    "corr = df.corr()\n",
    "corr[\"isFraud\"].sort_values(ascending=False)"
   ],
   "id": "cdecfd30d3284189",
   "outputs": [
    {
     "ename": "ValueError",
     "evalue": "could not convert string to float: 'PAYMENT'",
     "output_type": "error",
     "traceback": [
      "\u001B[1;31m---------------------------------------------------------------------------\u001B[0m",
      "\u001B[1;31mValueError\u001B[0m                                Traceback (most recent call last)",
      "Cell \u001B[1;32mIn[21], line 1\u001B[0m\n\u001B[1;32m----> 1\u001B[0m corr \u001B[38;5;241m=\u001B[39m \u001B[43mdf\u001B[49m\u001B[38;5;241;43m.\u001B[39;49m\u001B[43mcorr\u001B[49m\u001B[43m(\u001B[49m\u001B[43m)\u001B[49m\n\u001B[0;32m      2\u001B[0m corr[\u001B[38;5;124m\"\u001B[39m\u001B[38;5;124misFraud\u001B[39m\u001B[38;5;124m\"\u001B[39m]\u001B[38;5;241m.\u001B[39msort_values(ascending\u001B[38;5;241m=\u001B[39m\u001B[38;5;28;01mFalse\u001B[39;00m)\n",
      "File \u001B[1;32m~\\AppData\\Local\\Programs\\Python\\Python311\\Lib\\site-packages\\pandas\\core\\frame.py:10054\u001B[0m, in \u001B[0;36mDataFrame.corr\u001B[1;34m(self, method, min_periods, numeric_only)\u001B[0m\n\u001B[0;32m  10052\u001B[0m cols \u001B[38;5;241m=\u001B[39m data\u001B[38;5;241m.\u001B[39mcolumns\n\u001B[0;32m  10053\u001B[0m idx \u001B[38;5;241m=\u001B[39m cols\u001B[38;5;241m.\u001B[39mcopy()\n\u001B[1;32m> 10054\u001B[0m mat \u001B[38;5;241m=\u001B[39m \u001B[43mdata\u001B[49m\u001B[38;5;241;43m.\u001B[39;49m\u001B[43mto_numpy\u001B[49m\u001B[43m(\u001B[49m\u001B[43mdtype\u001B[49m\u001B[38;5;241;43m=\u001B[39;49m\u001B[38;5;28;43mfloat\u001B[39;49m\u001B[43m,\u001B[49m\u001B[43m \u001B[49m\u001B[43mna_value\u001B[49m\u001B[38;5;241;43m=\u001B[39;49m\u001B[43mnp\u001B[49m\u001B[38;5;241;43m.\u001B[39;49m\u001B[43mnan\u001B[49m\u001B[43m,\u001B[49m\u001B[43m \u001B[49m\u001B[43mcopy\u001B[49m\u001B[38;5;241;43m=\u001B[39;49m\u001B[38;5;28;43;01mFalse\u001B[39;49;00m\u001B[43m)\u001B[49m\n\u001B[0;32m  10056\u001B[0m \u001B[38;5;28;01mif\u001B[39;00m method \u001B[38;5;241m==\u001B[39m \u001B[38;5;124m\"\u001B[39m\u001B[38;5;124mpearson\u001B[39m\u001B[38;5;124m\"\u001B[39m:\n\u001B[0;32m  10057\u001B[0m     correl \u001B[38;5;241m=\u001B[39m libalgos\u001B[38;5;241m.\u001B[39mnancorr(mat, minp\u001B[38;5;241m=\u001B[39mmin_periods)\n",
      "File \u001B[1;32m~\\AppData\\Local\\Programs\\Python\\Python311\\Lib\\site-packages\\pandas\\core\\frame.py:1838\u001B[0m, in \u001B[0;36mDataFrame.to_numpy\u001B[1;34m(self, dtype, copy, na_value)\u001B[0m\n\u001B[0;32m   1836\u001B[0m \u001B[38;5;28;01mif\u001B[39;00m dtype \u001B[38;5;129;01mis\u001B[39;00m \u001B[38;5;129;01mnot\u001B[39;00m \u001B[38;5;28;01mNone\u001B[39;00m:\n\u001B[0;32m   1837\u001B[0m     dtype \u001B[38;5;241m=\u001B[39m np\u001B[38;5;241m.\u001B[39mdtype(dtype)\n\u001B[1;32m-> 1838\u001B[0m result \u001B[38;5;241m=\u001B[39m \u001B[38;5;28;43mself\u001B[39;49m\u001B[38;5;241;43m.\u001B[39;49m\u001B[43m_mgr\u001B[49m\u001B[38;5;241;43m.\u001B[39;49m\u001B[43mas_array\u001B[49m\u001B[43m(\u001B[49m\u001B[43mdtype\u001B[49m\u001B[38;5;241;43m=\u001B[39;49m\u001B[43mdtype\u001B[49m\u001B[43m,\u001B[49m\u001B[43m \u001B[49m\u001B[43mcopy\u001B[49m\u001B[38;5;241;43m=\u001B[39;49m\u001B[43mcopy\u001B[49m\u001B[43m,\u001B[49m\u001B[43m \u001B[49m\u001B[43mna_value\u001B[49m\u001B[38;5;241;43m=\u001B[39;49m\u001B[43mna_value\u001B[49m\u001B[43m)\u001B[49m\n\u001B[0;32m   1839\u001B[0m \u001B[38;5;28;01mif\u001B[39;00m result\u001B[38;5;241m.\u001B[39mdtype \u001B[38;5;129;01mis\u001B[39;00m \u001B[38;5;129;01mnot\u001B[39;00m dtype:\n\u001B[0;32m   1840\u001B[0m     result \u001B[38;5;241m=\u001B[39m np\u001B[38;5;241m.\u001B[39marray(result, dtype\u001B[38;5;241m=\u001B[39mdtype, copy\u001B[38;5;241m=\u001B[39m\u001B[38;5;28;01mFalse\u001B[39;00m)\n",
      "File \u001B[1;32m~\\AppData\\Local\\Programs\\Python\\Python311\\Lib\\site-packages\\pandas\\core\\internals\\managers.py:1732\u001B[0m, in \u001B[0;36mBlockManager.as_array\u001B[1;34m(self, dtype, copy, na_value)\u001B[0m\n\u001B[0;32m   1730\u001B[0m         arr\u001B[38;5;241m.\u001B[39mflags\u001B[38;5;241m.\u001B[39mwriteable \u001B[38;5;241m=\u001B[39m \u001B[38;5;28;01mFalse\u001B[39;00m\n\u001B[0;32m   1731\u001B[0m \u001B[38;5;28;01melse\u001B[39;00m:\n\u001B[1;32m-> 1732\u001B[0m     arr \u001B[38;5;241m=\u001B[39m \u001B[38;5;28;43mself\u001B[39;49m\u001B[38;5;241;43m.\u001B[39;49m\u001B[43m_interleave\u001B[49m\u001B[43m(\u001B[49m\u001B[43mdtype\u001B[49m\u001B[38;5;241;43m=\u001B[39;49m\u001B[43mdtype\u001B[49m\u001B[43m,\u001B[49m\u001B[43m \u001B[49m\u001B[43mna_value\u001B[49m\u001B[38;5;241;43m=\u001B[39;49m\u001B[43mna_value\u001B[49m\u001B[43m)\u001B[49m\n\u001B[0;32m   1733\u001B[0m     \u001B[38;5;66;03m# The underlying data was copied within _interleave, so no need\u001B[39;00m\n\u001B[0;32m   1734\u001B[0m     \u001B[38;5;66;03m# to further copy if copy=True or setting na_value\u001B[39;00m\n\u001B[0;32m   1736\u001B[0m \u001B[38;5;28;01mif\u001B[39;00m na_value \u001B[38;5;129;01mis\u001B[39;00m \u001B[38;5;129;01mnot\u001B[39;00m lib\u001B[38;5;241m.\u001B[39mno_default:\n",
      "File \u001B[1;32m~\\AppData\\Local\\Programs\\Python\\Python311\\Lib\\site-packages\\pandas\\core\\internals\\managers.py:1794\u001B[0m, in \u001B[0;36mBlockManager._interleave\u001B[1;34m(self, dtype, na_value)\u001B[0m\n\u001B[0;32m   1792\u001B[0m     \u001B[38;5;28;01melse\u001B[39;00m:\n\u001B[0;32m   1793\u001B[0m         arr \u001B[38;5;241m=\u001B[39m blk\u001B[38;5;241m.\u001B[39mget_values(dtype)\n\u001B[1;32m-> 1794\u001B[0m     \u001B[43mresult\u001B[49m\u001B[43m[\u001B[49m\u001B[43mrl\u001B[49m\u001B[38;5;241;43m.\u001B[39;49m\u001B[43mindexer\u001B[49m\u001B[43m]\u001B[49m \u001B[38;5;241m=\u001B[39m arr\n\u001B[0;32m   1795\u001B[0m     itemmask[rl\u001B[38;5;241m.\u001B[39mindexer] \u001B[38;5;241m=\u001B[39m \u001B[38;5;241m1\u001B[39m\n\u001B[0;32m   1797\u001B[0m \u001B[38;5;28;01mif\u001B[39;00m \u001B[38;5;129;01mnot\u001B[39;00m itemmask\u001B[38;5;241m.\u001B[39mall():\n",
      "\u001B[1;31mValueError\u001B[0m: could not convert string to float: 'PAYMENT'"
     ]
    }
   ],
   "execution_count": 21
  },
  {
   "metadata": {
    "ExecuteTime": {
     "end_time": "2024-08-18T12:17:25.887472Z",
     "start_time": "2024-08-18T12:17:25.615421Z"
    }
   },
   "cell_type": "code",
   "source": [
    "df['type'] = df['type'].map({\"CASH_OUT\":1,\n",
    "                             \"PAYMENT\":2,\n",
    "                             \"CASH_IN\":3,\n",
    "                             \"TRANSFER\":4,\n",
    "                             \"DEBIT\":5\n",
    "                             })\n",
    "\n",
    "\n",
    "df.head()"
   ],
   "id": "9cd44a79ce5b2006",
   "outputs": [
    {
     "data": {
      "text/plain": [
       "   step  type    amount     nameOrig  oldbalanceOrg  newbalanceOrig  \\\n",
       "0     1     2   9839.64  C1231006815       170136.0       160296.36   \n",
       "1     1     2   1864.28  C1666544295        21249.0        19384.72   \n",
       "2     1     4    181.00  C1305486145          181.0            0.00   \n",
       "3     1     1    181.00   C840083671          181.0            0.00   \n",
       "4     1     2  11668.14  C2048537720        41554.0        29885.86   \n",
       "\n",
       "      nameDest  oldbalanceDest  newbalanceDest  isFraud  isFlaggedFraud  \\\n",
       "0  M1979787155             0.0             0.0        0               0   \n",
       "1  M2044282225             0.0             0.0        0               0   \n",
       "2   C553264065             0.0             0.0        1               0   \n",
       "3    C38997010         21182.0             0.0        1               0   \n",
       "4  M1230701703             0.0             0.0        0               0   \n",
       "\n",
       "   type_encoded  \n",
       "0             3  \n",
       "1             3  \n",
       "2             4  \n",
       "3             1  \n",
       "4             3  "
      ],
      "text/html": [
       "<div>\n",
       "<style scoped>\n",
       "    .dataframe tbody tr th:only-of-type {\n",
       "        vertical-align: middle;\n",
       "    }\n",
       "\n",
       "    .dataframe tbody tr th {\n",
       "        vertical-align: top;\n",
       "    }\n",
       "\n",
       "    .dataframe thead th {\n",
       "        text-align: right;\n",
       "    }\n",
       "</style>\n",
       "<table border=\"1\" class=\"dataframe\">\n",
       "  <thead>\n",
       "    <tr style=\"text-align: right;\">\n",
       "      <th></th>\n",
       "      <th>step</th>\n",
       "      <th>type</th>\n",
       "      <th>amount</th>\n",
       "      <th>nameOrig</th>\n",
       "      <th>oldbalanceOrg</th>\n",
       "      <th>newbalanceOrig</th>\n",
       "      <th>nameDest</th>\n",
       "      <th>oldbalanceDest</th>\n",
       "      <th>newbalanceDest</th>\n",
       "      <th>isFraud</th>\n",
       "      <th>isFlaggedFraud</th>\n",
       "      <th>type_encoded</th>\n",
       "    </tr>\n",
       "  </thead>\n",
       "  <tbody>\n",
       "    <tr>\n",
       "      <th>0</th>\n",
       "      <td>1</td>\n",
       "      <td>2</td>\n",
       "      <td>9839.64</td>\n",
       "      <td>C1231006815</td>\n",
       "      <td>170136.0</td>\n",
       "      <td>160296.36</td>\n",
       "      <td>M1979787155</td>\n",
       "      <td>0.0</td>\n",
       "      <td>0.0</td>\n",
       "      <td>0</td>\n",
       "      <td>0</td>\n",
       "      <td>3</td>\n",
       "    </tr>\n",
       "    <tr>\n",
       "      <th>1</th>\n",
       "      <td>1</td>\n",
       "      <td>2</td>\n",
       "      <td>1864.28</td>\n",
       "      <td>C1666544295</td>\n",
       "      <td>21249.0</td>\n",
       "      <td>19384.72</td>\n",
       "      <td>M2044282225</td>\n",
       "      <td>0.0</td>\n",
       "      <td>0.0</td>\n",
       "      <td>0</td>\n",
       "      <td>0</td>\n",
       "      <td>3</td>\n",
       "    </tr>\n",
       "    <tr>\n",
       "      <th>2</th>\n",
       "      <td>1</td>\n",
       "      <td>4</td>\n",
       "      <td>181.00</td>\n",
       "      <td>C1305486145</td>\n",
       "      <td>181.0</td>\n",
       "      <td>0.00</td>\n",
       "      <td>C553264065</td>\n",
       "      <td>0.0</td>\n",
       "      <td>0.0</td>\n",
       "      <td>1</td>\n",
       "      <td>0</td>\n",
       "      <td>4</td>\n",
       "    </tr>\n",
       "    <tr>\n",
       "      <th>3</th>\n",
       "      <td>1</td>\n",
       "      <td>1</td>\n",
       "      <td>181.00</td>\n",
       "      <td>C840083671</td>\n",
       "      <td>181.0</td>\n",
       "      <td>0.00</td>\n",
       "      <td>C38997010</td>\n",
       "      <td>21182.0</td>\n",
       "      <td>0.0</td>\n",
       "      <td>1</td>\n",
       "      <td>0</td>\n",
       "      <td>1</td>\n",
       "    </tr>\n",
       "    <tr>\n",
       "      <th>4</th>\n",
       "      <td>1</td>\n",
       "      <td>2</td>\n",
       "      <td>11668.14</td>\n",
       "      <td>C2048537720</td>\n",
       "      <td>41554.0</td>\n",
       "      <td>29885.86</td>\n",
       "      <td>M1230701703</td>\n",
       "      <td>0.0</td>\n",
       "      <td>0.0</td>\n",
       "      <td>0</td>\n",
       "      <td>0</td>\n",
       "      <td>3</td>\n",
       "    </tr>\n",
       "  </tbody>\n",
       "</table>\n",
       "</div>"
      ]
     },
     "execution_count": 22,
     "metadata": {},
     "output_type": "execute_result"
    }
   ],
   "execution_count": 22
  },
  {
   "metadata": {
    "ExecuteTime": {
     "end_time": "2024-08-18T12:17:27.236273Z",
     "start_time": "2024-08-18T12:17:27.208099Z"
    }
   },
   "cell_type": "code",
   "source": [
    "data1=df[(df['isFraud']==1) & (df['type']==4)]\n",
    "nameDest_counts = data1['nameDest'].value_counts()\n",
    "duplicates_nameDest = nameDest_counts[nameDest_counts > 1]\n",
    "print(len(duplicates_nameDest))"
   ],
   "id": "9b93583a27fa511a",
   "outputs": [
    {
     "name": "stdout",
     "output_type": "stream",
     "text": [
      "0\n"
     ]
    }
   ],
   "execution_count": 23
  },
  {
   "metadata": {
    "ExecuteTime": {
     "end_time": "2024-08-18T12:17:28.445543Z",
     "start_time": "2024-08-18T12:17:28.435181Z"
    }
   },
   "cell_type": "code",
   "source": "data1[['nameOrig','nameDest','oldbalanceDest','newbalanceDest']]",
   "id": "e49a735b594c8cc9",
   "outputs": [
    {
     "data": {
      "text/plain": [
       "            nameOrig     nameDest  oldbalanceDest  newbalanceDest\n",
       "2        C1305486145   C553264065             0.0             0.0\n",
       "251      C1420196421   C972765878             0.0             0.0\n",
       "680       C137533655  C1848415041             0.0             0.0\n",
       "969      C1334405552   C431687661             0.0             0.0\n",
       "1115     C1364127192  C1136419747             0.0             0.0\n",
       "...              ...          ...             ...             ...\n",
       "6362610   C778071008  C1812552860             0.0             0.0\n",
       "6362612  C1531301470  C1470998563             0.0             0.0\n",
       "6362614  C2013999242  C1850423904             0.0             0.0\n",
       "6362616  C1529008245  C1881841831             0.0             0.0\n",
       "6362618  C1685995037  C2080388513             0.0             0.0\n",
       "\n",
       "[4097 rows x 4 columns]"
      ],
      "text/html": [
       "<div>\n",
       "<style scoped>\n",
       "    .dataframe tbody tr th:only-of-type {\n",
       "        vertical-align: middle;\n",
       "    }\n",
       "\n",
       "    .dataframe tbody tr th {\n",
       "        vertical-align: top;\n",
       "    }\n",
       "\n",
       "    .dataframe thead th {\n",
       "        text-align: right;\n",
       "    }\n",
       "</style>\n",
       "<table border=\"1\" class=\"dataframe\">\n",
       "  <thead>\n",
       "    <tr style=\"text-align: right;\">\n",
       "      <th></th>\n",
       "      <th>nameOrig</th>\n",
       "      <th>nameDest</th>\n",
       "      <th>oldbalanceDest</th>\n",
       "      <th>newbalanceDest</th>\n",
       "    </tr>\n",
       "  </thead>\n",
       "  <tbody>\n",
       "    <tr>\n",
       "      <th>2</th>\n",
       "      <td>C1305486145</td>\n",
       "      <td>C553264065</td>\n",
       "      <td>0.0</td>\n",
       "      <td>0.0</td>\n",
       "    </tr>\n",
       "    <tr>\n",
       "      <th>251</th>\n",
       "      <td>C1420196421</td>\n",
       "      <td>C972765878</td>\n",
       "      <td>0.0</td>\n",
       "      <td>0.0</td>\n",
       "    </tr>\n",
       "    <tr>\n",
       "      <th>680</th>\n",
       "      <td>C137533655</td>\n",
       "      <td>C1848415041</td>\n",
       "      <td>0.0</td>\n",
       "      <td>0.0</td>\n",
       "    </tr>\n",
       "    <tr>\n",
       "      <th>969</th>\n",
       "      <td>C1334405552</td>\n",
       "      <td>C431687661</td>\n",
       "      <td>0.0</td>\n",
       "      <td>0.0</td>\n",
       "    </tr>\n",
       "    <tr>\n",
       "      <th>1115</th>\n",
       "      <td>C1364127192</td>\n",
       "      <td>C1136419747</td>\n",
       "      <td>0.0</td>\n",
       "      <td>0.0</td>\n",
       "    </tr>\n",
       "    <tr>\n",
       "      <th>...</th>\n",
       "      <td>...</td>\n",
       "      <td>...</td>\n",
       "      <td>...</td>\n",
       "      <td>...</td>\n",
       "    </tr>\n",
       "    <tr>\n",
       "      <th>6362610</th>\n",
       "      <td>C778071008</td>\n",
       "      <td>C1812552860</td>\n",
       "      <td>0.0</td>\n",
       "      <td>0.0</td>\n",
       "    </tr>\n",
       "    <tr>\n",
       "      <th>6362612</th>\n",
       "      <td>C1531301470</td>\n",
       "      <td>C1470998563</td>\n",
       "      <td>0.0</td>\n",
       "      <td>0.0</td>\n",
       "    </tr>\n",
       "    <tr>\n",
       "      <th>6362614</th>\n",
       "      <td>C2013999242</td>\n",
       "      <td>C1850423904</td>\n",
       "      <td>0.0</td>\n",
       "      <td>0.0</td>\n",
       "    </tr>\n",
       "    <tr>\n",
       "      <th>6362616</th>\n",
       "      <td>C1529008245</td>\n",
       "      <td>C1881841831</td>\n",
       "      <td>0.0</td>\n",
       "      <td>0.0</td>\n",
       "    </tr>\n",
       "    <tr>\n",
       "      <th>6362618</th>\n",
       "      <td>C1685995037</td>\n",
       "      <td>C2080388513</td>\n",
       "      <td>0.0</td>\n",
       "      <td>0.0</td>\n",
       "    </tr>\n",
       "  </tbody>\n",
       "</table>\n",
       "<p>4097 rows × 4 columns</p>\n",
       "</div>"
      ]
     },
     "execution_count": 24,
     "metadata": {},
     "output_type": "execute_result"
    }
   ],
   "execution_count": 24
  },
  {
   "metadata": {
    "ExecuteTime": {
     "end_time": "2024-08-18T12:17:29.844175Z",
     "start_time": "2024-08-18T12:17:29.836086Z"
    }
   },
   "cell_type": "code",
   "source": [
    "# Check if any 'nameDest' values start with 'M'\n",
    "mask1 = data1['nameDest'].str.startswith('M')\n",
    "mask2 = data1['nameOrig'].str.startswith('M')\n",
    "# Display rows where 'nameDest' starts with 'M'\n",
    "result1 = data1[mask1]\n",
    "result2 = data1[mask2]\n",
    "\n",
    "# Check if any such rows exist\n",
    "if not result1.empty:\n",
    "    print(\"There are 'nameDest' values that start with 'M'.\")\n",
    "    print(result1)\n",
    "else:\n",
    "    print(\"There are no 'nameDest' values that start with 'M'.\")\n",
    "\n",
    "if not result2.empty:\n",
    "    print(\"There are 'nameOrig' values that start with 'M'.\")\n",
    "    print(result2)\n",
    "else:\n",
    "    print(\"There are no 'nameOrig' values that start with 'M'.\")"
   ],
   "id": "a10b5ab00c1a964d",
   "outputs": [
    {
     "name": "stdout",
     "output_type": "stream",
     "text": [
      "There are no 'nameDest' values that start with 'M'.\n",
      "There are no 'nameOrig' values that start with 'M'.\n"
     ]
    }
   ],
   "execution_count": 25
  },
  {
   "metadata": {},
   "cell_type": "code",
   "source": "# The above code shows that the transfers that have been happening are just done over C to C and has no Merchant accounts involved",
   "id": "5662d29f3627b9cc",
   "outputs": [],
   "execution_count": null
  },
  {
   "metadata": {
    "ExecuteTime": {
     "end_time": "2024-08-18T12:17:31.565126Z",
     "start_time": "2024-08-18T12:17:31.537049Z"
    }
   },
   "cell_type": "code",
   "source": [
    "data2=df[(df['isFraud']==1) & (df['type']==1)]\n",
    "\n",
    "# Count the occurrences of each value in 'nameOrig'\n",
    "nameOrig_counts = data2['nameOrig'].value_counts()\n",
    "print(nameOrig_counts)\n",
    "\n",
    "# Filter for values greater than 1\n",
    "duplicates = nameOrig_counts[nameOrig_counts > 1]\n",
    "print(len(duplicates))"
   ],
   "id": "18adea28c5375bde",
   "outputs": [
    {
     "name": "stdout",
     "output_type": "stream",
     "text": [
      "nameOrig\n",
      "C840083671     1\n",
      "C1055498407    1\n",
      "C1886113938    1\n",
      "C520336445     1\n",
      "C463684846     1\n",
      "              ..\n",
      "C1641368956    1\n",
      "C2120940829    1\n",
      "C992121519     1\n",
      "C1663597987    1\n",
      "C1280323807    1\n",
      "Name: count, Length: 4116, dtype: int64\n",
      "0\n"
     ]
    }
   ],
   "execution_count": 26
  },
  {
   "metadata": {},
   "cell_type": "markdown",
   "source": [
    "\n",
    " No duplicates found in NameDest and NameOrgin implying a specific account is not used to carry out fraudulent transaction"
   ],
   "id": "d8a56e754974b89e"
  },
  {
   "metadata": {
    "ExecuteTime": {
     "end_time": "2024-08-18T12:52:24.920213Z",
     "start_time": "2024-08-18T12:52:24.549260Z"
    }
   },
   "cell_type": "code",
   "source": [
    "fraud = df[df[\"isFraud\"] == 1]\n",
    "valid = df[df[\"isFraud\"] == 0]"
   ],
   "id": "c7397cc456cdc2c5",
   "outputs": [],
   "execution_count": 55
  },
  {
   "metadata": {
    "ExecuteTime": {
     "end_time": "2024-08-18T12:17:36.731960Z",
     "start_time": "2024-08-18T12:17:36.723721Z"
    }
   },
   "cell_type": "code",
   "source": [
    "fraudTransfer = fraud[fraud['type'] == 4]\n",
    "fraudCashout = fraud[fraud['type'] == 1]\n",
    "\n",
    "# checking if the recipient account of a fraudulent transfer was used as a sending account for cashing out \n",
    "fraudTransfer.nameDest.isin(fraudCashout.nameOrig).any()\n",
    "\n",
    "#False as for fraudulent transactions, the account recieving funds during transfer was not used for cashout."
   ],
   "id": "590e6621c96ea545",
   "outputs": [
    {
     "data": {
      "text/plain": [
       "False"
      ]
     },
     "execution_count": 29,
     "metadata": {},
     "output_type": "execute_result"
    }
   ],
   "execution_count": 29
  },
  {
   "metadata": {
    "ExecuteTime": {
     "end_time": "2024-08-18T12:17:40.765030Z",
     "start_time": "2024-08-18T12:17:40.757358Z"
    }
   },
   "cell_type": "code",
   "source": "print(fraudTransfer)",
   "id": "ab9a81e490015f82",
   "outputs": [
    {
     "name": "stdout",
     "output_type": "stream",
     "text": [
      "         step  type      amount     nameOrig  oldbalanceOrg  newbalanceOrig  \\\n",
      "2           1     4      181.00  C1305486145         181.00             0.0   \n",
      "251         1     4     2806.00  C1420196421        2806.00             0.0   \n",
      "680         1     4    20128.00   C137533655       20128.00             0.0   \n",
      "969         1     4  1277212.77  C1334405552     1277212.77             0.0   \n",
      "1115        1     4    35063.63  C1364127192       35063.63             0.0   \n",
      "...       ...   ...         ...          ...            ...             ...   \n",
      "6362610   742     4    63416.99   C778071008       63416.99             0.0   \n",
      "6362612   743     4  1258818.82  C1531301470     1258818.82             0.0   \n",
      "6362614   743     4   339682.13  C2013999242      339682.13             0.0   \n",
      "6362616   743     4  6311409.28  C1529008245     6311409.28             0.0   \n",
      "6362618   743     4   850002.52  C1685995037      850002.52             0.0   \n",
      "\n",
      "            nameDest  oldbalanceDest  newbalanceDest  isFraud  isFlaggedFraud  \\\n",
      "2         C553264065             0.0             0.0        1               0   \n",
      "251       C972765878             0.0             0.0        1               0   \n",
      "680      C1848415041             0.0             0.0        1               0   \n",
      "969       C431687661             0.0             0.0        1               0   \n",
      "1115     C1136419747             0.0             0.0        1               0   \n",
      "...              ...             ...             ...      ...             ...   \n",
      "6362610  C1812552860             0.0             0.0        1               0   \n",
      "6362612  C1470998563             0.0             0.0        1               0   \n",
      "6362614  C1850423904             0.0             0.0        1               0   \n",
      "6362616  C1881841831             0.0             0.0        1               0   \n",
      "6362618  C2080388513             0.0             0.0        1               0   \n",
      "\n",
      "         type_encoded  \n",
      "2                   4  \n",
      "251                 4  \n",
      "680                 4  \n",
      "969                 4  \n",
      "1115                4  \n",
      "...               ...  \n",
      "6362610             4  \n",
      "6362612             4  \n",
      "6362614             4  \n",
      "6362616             4  \n",
      "6362618             4  \n",
      "\n",
      "[4097 rows x 12 columns]\n"
     ]
    }
   ],
   "execution_count": 31
  },
  {
   "metadata": {
    "ExecuteTime": {
     "end_time": "2024-08-18T12:17:40.539406Z",
     "start_time": "2024-08-18T12:17:39.755142Z"
    }
   },
   "cell_type": "code",
   "source": [
    "#Checking for balances before and after transaction\n",
    "\n",
    "wrong_OrigBal = sum(df['oldbalanceOrg'] - df['amount'] != df['newbalanceOrig'])\n",
    "wrong_DestBal = sum(df['newbalanceDest'] + df['amount'] != df['newbalanceDest'])\n",
    "\n",
    "print(wrong_OrigBal)\n",
    "print(wrong_DestBal)\n",
    "print(\"Percentage of obs with balance errors outgoing:   \", 100 * round(wrong_OrigBal/len(df),2)) \n",
    "print(\"Percentage of obs with balance errors incoming:   \",100 *  round(wrong_DestBal/len(df),3)) \n",
    "\n",
    "## Almost all the incoming and outoging balances have errors, and we have no idea as of what is causing these errors,\n",
    "# Hence we cant use this information for our model."
   ],
   "id": "5d8856be253457ec",
   "outputs": [
    {
     "name": "stdout",
     "output_type": "stream",
     "text": [
      "5413997\n",
      "6362604\n",
      "Percentage of obs with balance errors outgoing:    85.0\n",
      "Percentage of obs with balance errors incoming:    100.0\n"
     ]
    }
   ],
   "execution_count": 30
  },
  {
   "metadata": {
    "ExecuteTime": {
     "end_time": "2024-08-18T12:17:44.931689Z",
     "start_time": "2024-08-18T12:17:44.632040Z"
    }
   },
   "cell_type": "code",
   "source": "df_new = df.copy()",
   "id": "c85ab48d071217fc",
   "outputs": [],
   "execution_count": 33
  },
  {
   "metadata": {
    "ExecuteTime": {
     "end_time": "2024-08-18T12:17:45.906309Z",
     "start_time": "2024-08-18T12:17:45.662232Z"
    }
   },
   "cell_type": "code",
   "source": [
    "# we can see that there are only 16 instances of 1's in flagged for fraud in a big data set, and also we dont need nameOrgi and nameDest in our\n",
    "# model building process, so we drop these 3 columns which are of no help\n",
    "df_new = df_new.drop([\"isFlaggedFraud\",'nameOrig','nameDest'],axis=1)"
   ],
   "id": "1f16facf2d0c7bff",
   "outputs": [],
   "execution_count": 34
  },
  {
   "metadata": {
    "ExecuteTime": {
     "end_time": "2024-08-18T12:17:47.530224Z",
     "start_time": "2024-08-18T12:17:47.519730Z"
    }
   },
   "cell_type": "code",
   "source": "df_new",
   "id": "686b042b2e007c79",
   "outputs": [
    {
     "data": {
      "text/plain": [
       "         step  type      amount  oldbalanceOrg  newbalanceOrig  \\\n",
       "0           1     2     9839.64      170136.00       160296.36   \n",
       "1           1     2     1864.28       21249.00        19384.72   \n",
       "2           1     4      181.00         181.00            0.00   \n",
       "3           1     1      181.00         181.00            0.00   \n",
       "4           1     2    11668.14       41554.00        29885.86   \n",
       "...       ...   ...         ...            ...             ...   \n",
       "6362615   743     1   339682.13      339682.13            0.00   \n",
       "6362616   743     4  6311409.28     6311409.28            0.00   \n",
       "6362617   743     1  6311409.28     6311409.28            0.00   \n",
       "6362618   743     4   850002.52      850002.52            0.00   \n",
       "6362619   743     1   850002.52      850002.52            0.00   \n",
       "\n",
       "         oldbalanceDest  newbalanceDest  isFraud  type_encoded  \n",
       "0                  0.00            0.00        0             3  \n",
       "1                  0.00            0.00        0             3  \n",
       "2                  0.00            0.00        1             4  \n",
       "3              21182.00            0.00        1             1  \n",
       "4                  0.00            0.00        0             3  \n",
       "...                 ...             ...      ...           ...  \n",
       "6362615            0.00       339682.13        1             1  \n",
       "6362616            0.00            0.00        1             4  \n",
       "6362617        68488.84      6379898.11        1             1  \n",
       "6362618            0.00            0.00        1             4  \n",
       "6362619      6510099.11      7360101.63        1             1  \n",
       "\n",
       "[6362620 rows x 9 columns]"
      ],
      "text/html": [
       "<div>\n",
       "<style scoped>\n",
       "    .dataframe tbody tr th:only-of-type {\n",
       "        vertical-align: middle;\n",
       "    }\n",
       "\n",
       "    .dataframe tbody tr th {\n",
       "        vertical-align: top;\n",
       "    }\n",
       "\n",
       "    .dataframe thead th {\n",
       "        text-align: right;\n",
       "    }\n",
       "</style>\n",
       "<table border=\"1\" class=\"dataframe\">\n",
       "  <thead>\n",
       "    <tr style=\"text-align: right;\">\n",
       "      <th></th>\n",
       "      <th>step</th>\n",
       "      <th>type</th>\n",
       "      <th>amount</th>\n",
       "      <th>oldbalanceOrg</th>\n",
       "      <th>newbalanceOrig</th>\n",
       "      <th>oldbalanceDest</th>\n",
       "      <th>newbalanceDest</th>\n",
       "      <th>isFraud</th>\n",
       "      <th>type_encoded</th>\n",
       "    </tr>\n",
       "  </thead>\n",
       "  <tbody>\n",
       "    <tr>\n",
       "      <th>0</th>\n",
       "      <td>1</td>\n",
       "      <td>2</td>\n",
       "      <td>9839.64</td>\n",
       "      <td>170136.00</td>\n",
       "      <td>160296.36</td>\n",
       "      <td>0.00</td>\n",
       "      <td>0.00</td>\n",
       "      <td>0</td>\n",
       "      <td>3</td>\n",
       "    </tr>\n",
       "    <tr>\n",
       "      <th>1</th>\n",
       "      <td>1</td>\n",
       "      <td>2</td>\n",
       "      <td>1864.28</td>\n",
       "      <td>21249.00</td>\n",
       "      <td>19384.72</td>\n",
       "      <td>0.00</td>\n",
       "      <td>0.00</td>\n",
       "      <td>0</td>\n",
       "      <td>3</td>\n",
       "    </tr>\n",
       "    <tr>\n",
       "      <th>2</th>\n",
       "      <td>1</td>\n",
       "      <td>4</td>\n",
       "      <td>181.00</td>\n",
       "      <td>181.00</td>\n",
       "      <td>0.00</td>\n",
       "      <td>0.00</td>\n",
       "      <td>0.00</td>\n",
       "      <td>1</td>\n",
       "      <td>4</td>\n",
       "    </tr>\n",
       "    <tr>\n",
       "      <th>3</th>\n",
       "      <td>1</td>\n",
       "      <td>1</td>\n",
       "      <td>181.00</td>\n",
       "      <td>181.00</td>\n",
       "      <td>0.00</td>\n",
       "      <td>21182.00</td>\n",
       "      <td>0.00</td>\n",
       "      <td>1</td>\n",
       "      <td>1</td>\n",
       "    </tr>\n",
       "    <tr>\n",
       "      <th>4</th>\n",
       "      <td>1</td>\n",
       "      <td>2</td>\n",
       "      <td>11668.14</td>\n",
       "      <td>41554.00</td>\n",
       "      <td>29885.86</td>\n",
       "      <td>0.00</td>\n",
       "      <td>0.00</td>\n",
       "      <td>0</td>\n",
       "      <td>3</td>\n",
       "    </tr>\n",
       "    <tr>\n",
       "      <th>...</th>\n",
       "      <td>...</td>\n",
       "      <td>...</td>\n",
       "      <td>...</td>\n",
       "      <td>...</td>\n",
       "      <td>...</td>\n",
       "      <td>...</td>\n",
       "      <td>...</td>\n",
       "      <td>...</td>\n",
       "      <td>...</td>\n",
       "    </tr>\n",
       "    <tr>\n",
       "      <th>6362615</th>\n",
       "      <td>743</td>\n",
       "      <td>1</td>\n",
       "      <td>339682.13</td>\n",
       "      <td>339682.13</td>\n",
       "      <td>0.00</td>\n",
       "      <td>0.00</td>\n",
       "      <td>339682.13</td>\n",
       "      <td>1</td>\n",
       "      <td>1</td>\n",
       "    </tr>\n",
       "    <tr>\n",
       "      <th>6362616</th>\n",
       "      <td>743</td>\n",
       "      <td>4</td>\n",
       "      <td>6311409.28</td>\n",
       "      <td>6311409.28</td>\n",
       "      <td>0.00</td>\n",
       "      <td>0.00</td>\n",
       "      <td>0.00</td>\n",
       "      <td>1</td>\n",
       "      <td>4</td>\n",
       "    </tr>\n",
       "    <tr>\n",
       "      <th>6362617</th>\n",
       "      <td>743</td>\n",
       "      <td>1</td>\n",
       "      <td>6311409.28</td>\n",
       "      <td>6311409.28</td>\n",
       "      <td>0.00</td>\n",
       "      <td>68488.84</td>\n",
       "      <td>6379898.11</td>\n",
       "      <td>1</td>\n",
       "      <td>1</td>\n",
       "    </tr>\n",
       "    <tr>\n",
       "      <th>6362618</th>\n",
       "      <td>743</td>\n",
       "      <td>4</td>\n",
       "      <td>850002.52</td>\n",
       "      <td>850002.52</td>\n",
       "      <td>0.00</td>\n",
       "      <td>0.00</td>\n",
       "      <td>0.00</td>\n",
       "      <td>1</td>\n",
       "      <td>4</td>\n",
       "    </tr>\n",
       "    <tr>\n",
       "      <th>6362619</th>\n",
       "      <td>743</td>\n",
       "      <td>1</td>\n",
       "      <td>850002.52</td>\n",
       "      <td>850002.52</td>\n",
       "      <td>0.00</td>\n",
       "      <td>6510099.11</td>\n",
       "      <td>7360101.63</td>\n",
       "      <td>1</td>\n",
       "      <td>1</td>\n",
       "    </tr>\n",
       "  </tbody>\n",
       "</table>\n",
       "<p>6362620 rows × 9 columns</p>\n",
       "</div>"
      ]
     },
     "execution_count": 35,
     "metadata": {},
     "output_type": "execute_result"
    }
   ],
   "execution_count": 35
  },
  {
   "metadata": {},
   "cell_type": "code",
   "source": "#Money moving out is the risky one, as we can see its transaction and CASHout are the ones that are fraudulent transactions",
   "id": "521475c601501ee9",
   "outputs": [],
   "execution_count": null
  },
  {
   "metadata": {
    "ExecuteTime": {
     "end_time": "2024-08-18T12:38:48.166384Z",
     "start_time": "2024-08-18T12:38:48.152338Z"
    }
   },
   "cell_type": "code",
   "source": [
    "fraud = fraud.sort_values(by='newbalanceDest',ascending = False)\n",
    "fraud"
   ],
   "id": "afca43a06c3b58e8",
   "outputs": [
    {
     "data": {
      "text/plain": [
       "         step  type      amount     nameOrig  oldbalanceOrg  newbalanceOrig  \\\n",
       "6118269   533     1   495977.84   C813165216      495977.84             0.0   \n",
       "6013665   449     1   133632.24   C782460784      133632.24             0.0   \n",
       "6282441   656     1   766257.55    C38948739      766257.55             0.0   \n",
       "6351127   698     1   748726.81   C714886527      748726.81             0.0   \n",
       "695415     36     1  1684039.12   C168686866     1684039.12             0.0   \n",
       "...       ...   ...         ...          ...            ...             ...   \n",
       "6262277   611     4  1418168.85  C1778688025     1418168.85             0.0   \n",
       "6308243   685     4    73110.82  C1808244239       73110.82             0.0   \n",
       "6010845   443     4  1795622.71   C699874957     1795622.71             0.0   \n",
       "1487413   142     4    73064.41   C627366177       73064.41             0.0   \n",
       "1533289   154     4  1581441.80  C1665891733     1581441.80             0.0   \n",
       "\n",
       "            nameDest  oldbalanceDest  newbalanceDest  isFraud  isFlaggedFraud  \\\n",
       "6118269    C65111466    2.362305e+08    2.367265e+08        1               0   \n",
       "6013665   C260277833    7.183683e+07    7.197046e+07        1               0   \n",
       "6282441   C533828275    4.614176e+07    4.690801e+07        1               0   \n",
       "6351127   C522001237    3.629263e+07    3.704135e+07        1               0   \n",
       "695415    C803116137    3.296166e+07    3.464570e+07        1               0   \n",
       "...              ...             ...             ...      ...             ...   \n",
       "6262277   C343288009    0.000000e+00    0.000000e+00        1               0   \n",
       "6308243  C1237294806    0.000000e+00    0.000000e+00        1               0   \n",
       "6010845  C2123434459    0.000000e+00    0.000000e+00        1               0   \n",
       "1487413  C1014517365    0.000000e+00    0.000000e+00        1               0   \n",
       "1533289  C1915924384    0.000000e+00    0.000000e+00        1               0   \n",
       "\n",
       "         type_encoded  \n",
       "6118269             1  \n",
       "6013665             1  \n",
       "6282441             1  \n",
       "6351127             1  \n",
       "695415              1  \n",
       "...               ...  \n",
       "6262277             4  \n",
       "6308243             4  \n",
       "6010845             4  \n",
       "1487413             4  \n",
       "1533289             4  \n",
       "\n",
       "[8213 rows x 12 columns]"
      ],
      "text/html": [
       "<div>\n",
       "<style scoped>\n",
       "    .dataframe tbody tr th:only-of-type {\n",
       "        vertical-align: middle;\n",
       "    }\n",
       "\n",
       "    .dataframe tbody tr th {\n",
       "        vertical-align: top;\n",
       "    }\n",
       "\n",
       "    .dataframe thead th {\n",
       "        text-align: right;\n",
       "    }\n",
       "</style>\n",
       "<table border=\"1\" class=\"dataframe\">\n",
       "  <thead>\n",
       "    <tr style=\"text-align: right;\">\n",
       "      <th></th>\n",
       "      <th>step</th>\n",
       "      <th>type</th>\n",
       "      <th>amount</th>\n",
       "      <th>nameOrig</th>\n",
       "      <th>oldbalanceOrg</th>\n",
       "      <th>newbalanceOrig</th>\n",
       "      <th>nameDest</th>\n",
       "      <th>oldbalanceDest</th>\n",
       "      <th>newbalanceDest</th>\n",
       "      <th>isFraud</th>\n",
       "      <th>isFlaggedFraud</th>\n",
       "      <th>type_encoded</th>\n",
       "    </tr>\n",
       "  </thead>\n",
       "  <tbody>\n",
       "    <tr>\n",
       "      <th>6118269</th>\n",
       "      <td>533</td>\n",
       "      <td>1</td>\n",
       "      <td>495977.84</td>\n",
       "      <td>C813165216</td>\n",
       "      <td>495977.84</td>\n",
       "      <td>0.0</td>\n",
       "      <td>C65111466</td>\n",
       "      <td>2.362305e+08</td>\n",
       "      <td>2.367265e+08</td>\n",
       "      <td>1</td>\n",
       "      <td>0</td>\n",
       "      <td>1</td>\n",
       "    </tr>\n",
       "    <tr>\n",
       "      <th>6013665</th>\n",
       "      <td>449</td>\n",
       "      <td>1</td>\n",
       "      <td>133632.24</td>\n",
       "      <td>C782460784</td>\n",
       "      <td>133632.24</td>\n",
       "      <td>0.0</td>\n",
       "      <td>C260277833</td>\n",
       "      <td>7.183683e+07</td>\n",
       "      <td>7.197046e+07</td>\n",
       "      <td>1</td>\n",
       "      <td>0</td>\n",
       "      <td>1</td>\n",
       "    </tr>\n",
       "    <tr>\n",
       "      <th>6282441</th>\n",
       "      <td>656</td>\n",
       "      <td>1</td>\n",
       "      <td>766257.55</td>\n",
       "      <td>C38948739</td>\n",
       "      <td>766257.55</td>\n",
       "      <td>0.0</td>\n",
       "      <td>C533828275</td>\n",
       "      <td>4.614176e+07</td>\n",
       "      <td>4.690801e+07</td>\n",
       "      <td>1</td>\n",
       "      <td>0</td>\n",
       "      <td>1</td>\n",
       "    </tr>\n",
       "    <tr>\n",
       "      <th>6351127</th>\n",
       "      <td>698</td>\n",
       "      <td>1</td>\n",
       "      <td>748726.81</td>\n",
       "      <td>C714886527</td>\n",
       "      <td>748726.81</td>\n",
       "      <td>0.0</td>\n",
       "      <td>C522001237</td>\n",
       "      <td>3.629263e+07</td>\n",
       "      <td>3.704135e+07</td>\n",
       "      <td>1</td>\n",
       "      <td>0</td>\n",
       "      <td>1</td>\n",
       "    </tr>\n",
       "    <tr>\n",
       "      <th>695415</th>\n",
       "      <td>36</td>\n",
       "      <td>1</td>\n",
       "      <td>1684039.12</td>\n",
       "      <td>C168686866</td>\n",
       "      <td>1684039.12</td>\n",
       "      <td>0.0</td>\n",
       "      <td>C803116137</td>\n",
       "      <td>3.296166e+07</td>\n",
       "      <td>3.464570e+07</td>\n",
       "      <td>1</td>\n",
       "      <td>0</td>\n",
       "      <td>1</td>\n",
       "    </tr>\n",
       "    <tr>\n",
       "      <th>...</th>\n",
       "      <td>...</td>\n",
       "      <td>...</td>\n",
       "      <td>...</td>\n",
       "      <td>...</td>\n",
       "      <td>...</td>\n",
       "      <td>...</td>\n",
       "      <td>...</td>\n",
       "      <td>...</td>\n",
       "      <td>...</td>\n",
       "      <td>...</td>\n",
       "      <td>...</td>\n",
       "      <td>...</td>\n",
       "    </tr>\n",
       "    <tr>\n",
       "      <th>6262277</th>\n",
       "      <td>611</td>\n",
       "      <td>4</td>\n",
       "      <td>1418168.85</td>\n",
       "      <td>C1778688025</td>\n",
       "      <td>1418168.85</td>\n",
       "      <td>0.0</td>\n",
       "      <td>C343288009</td>\n",
       "      <td>0.000000e+00</td>\n",
       "      <td>0.000000e+00</td>\n",
       "      <td>1</td>\n",
       "      <td>0</td>\n",
       "      <td>4</td>\n",
       "    </tr>\n",
       "    <tr>\n",
       "      <th>6308243</th>\n",
       "      <td>685</td>\n",
       "      <td>4</td>\n",
       "      <td>73110.82</td>\n",
       "      <td>C1808244239</td>\n",
       "      <td>73110.82</td>\n",
       "      <td>0.0</td>\n",
       "      <td>C1237294806</td>\n",
       "      <td>0.000000e+00</td>\n",
       "      <td>0.000000e+00</td>\n",
       "      <td>1</td>\n",
       "      <td>0</td>\n",
       "      <td>4</td>\n",
       "    </tr>\n",
       "    <tr>\n",
       "      <th>6010845</th>\n",
       "      <td>443</td>\n",
       "      <td>4</td>\n",
       "      <td>1795622.71</td>\n",
       "      <td>C699874957</td>\n",
       "      <td>1795622.71</td>\n",
       "      <td>0.0</td>\n",
       "      <td>C2123434459</td>\n",
       "      <td>0.000000e+00</td>\n",
       "      <td>0.000000e+00</td>\n",
       "      <td>1</td>\n",
       "      <td>0</td>\n",
       "      <td>4</td>\n",
       "    </tr>\n",
       "    <tr>\n",
       "      <th>1487413</th>\n",
       "      <td>142</td>\n",
       "      <td>4</td>\n",
       "      <td>73064.41</td>\n",
       "      <td>C627366177</td>\n",
       "      <td>73064.41</td>\n",
       "      <td>0.0</td>\n",
       "      <td>C1014517365</td>\n",
       "      <td>0.000000e+00</td>\n",
       "      <td>0.000000e+00</td>\n",
       "      <td>1</td>\n",
       "      <td>0</td>\n",
       "      <td>4</td>\n",
       "    </tr>\n",
       "    <tr>\n",
       "      <th>1533289</th>\n",
       "      <td>154</td>\n",
       "      <td>4</td>\n",
       "      <td>1581441.80</td>\n",
       "      <td>C1665891733</td>\n",
       "      <td>1581441.80</td>\n",
       "      <td>0.0</td>\n",
       "      <td>C1915924384</td>\n",
       "      <td>0.000000e+00</td>\n",
       "      <td>0.000000e+00</td>\n",
       "      <td>1</td>\n",
       "      <td>0</td>\n",
       "      <td>4</td>\n",
       "    </tr>\n",
       "  </tbody>\n",
       "</table>\n",
       "<p>8213 rows × 12 columns</p>\n",
       "</div>"
      ]
     },
     "execution_count": 48,
     "metadata": {},
     "output_type": "execute_result"
    }
   ],
   "execution_count": 48
  },
  {
   "metadata": {
    "ExecuteTime": {
     "end_time": "2024-08-18T13:22:56.091382Z",
     "start_time": "2024-08-18T13:22:55.938712Z"
    }
   },
   "cell_type": "code",
   "source": [
    "fraud.describe()\n",
    "df = df.drop([\"isFlaggedFraud\",'nameOrig','nameDest'],axis =1)"
   ],
   "id": "d46af5746b8d1630",
   "outputs": [],
   "execution_count": 92
  },
  {
   "metadata": {
    "ExecuteTime": {
     "end_time": "2024-08-18T13:23:00.246164Z",
     "start_time": "2024-08-18T13:22:57.790281Z"
    }
   },
   "cell_type": "code",
   "source": [
    "from sklearn.preprocessing import MinMaxScaler\n",
    "\n",
    "X = df.drop(\"isFraud\",axis =1)\n",
    "y = df.isFraud\n",
    "X_train, X_test, y_train, y_test = train_test_split(X, y)\n",
    "scaler = MinMaxScaler()\n",
    "X_train=scaler.fit_transform(X_train)\n",
    "\n",
    "X_test = scaler.transform(X_test)\n",
    "len(X)"
   ],
   "id": "ef1537fa865339ac",
   "outputs": [
    {
     "data": {
      "text/plain": [
       "6362620"
      ]
     },
     "execution_count": 93,
     "metadata": {},
     "output_type": "execute_result"
    }
   ],
   "execution_count": 93
  },
  {
   "metadata": {
    "ExecuteTime": {
     "end_time": "2024-08-18T13:39:02.304054Z",
     "start_time": "2024-08-18T13:39:01.273073Z"
    }
   },
   "cell_type": "code",
   "source": "corr = X.corr()\n",
   "id": "cb7c53053a20cf0c",
   "outputs": [],
   "execution_count": 114
  },
  {
   "metadata": {
    "ExecuteTime": {
     "end_time": "2024-08-18T13:39:31.786504Z",
     "start_time": "2024-08-18T13:39:31.242455Z"
    }
   },
   "cell_type": "code",
   "source": [
    "plt.figure(figsize=(10, 8))  # Set the size of the plot\n",
    "sns.heatmap(corr, annot=True, fmt=\".2f\", cmap='coolwarm', square=True)\n",
    "plt.title('Correlation Matrix')\n",
    "plt.show()\n"
   ],
   "id": "210843f2b23f1ed6",
   "outputs": [
    {
     "data": {
      "text/plain": [
       "<Figure size 1000x800 with 2 Axes>"
      ],
      "image/png": "[encoded data removed]"
     },
     "metadata": {},
     "output_type": "display_data"
    }
   ],
   "execution_count": 115
  },
  {
   "metadata": {
    "ExecuteTime": {
     "end_time": "2024-08-18T13:23:03.611972Z",
     "start_time": "2024-08-18T13:23:03.607571Z"
    }
   },
   "cell_type": "code",
   "source": [
    "len(fraud)/len(df) * 100\n",
    "\n",
    "# We are working with 0.12percent of the data to find anomalies in our dataset"
   ],
   "id": "4d361f5f817173fe",
   "outputs": [
    {
     "data": {
      "text/plain": [
       "0.12908204481801522"
      ]
     },
     "execution_count": 94,
     "metadata": {},
     "output_type": "execute_result"
    }
   ],
   "execution_count": 94
  },
  {
   "metadata": {
    "ExecuteTime": {
     "end_time": "2024-08-18T13:23:42.374876Z",
     "start_time": "2024-08-18T13:23:42.370492Z"
    }
   },
   "cell_type": "code",
   "source": [
    "len(X_train)\n",
    "len(X_test)"
   ],
   "id": "84db32ad599991cd",
   "outputs": [
    {
     "data": {
      "text/plain": [
       "1590655"
      ]
     },
     "execution_count": 97,
     "metadata": {},
     "output_type": "execute_result"
    }
   ],
   "execution_count": 97
  },
  {
   "metadata": {
    "ExecuteTime": {
     "end_time": "2024-08-18T13:04:19.715832Z",
     "start_time": "2024-08-18T13:04:19.711657Z"
    }
   },
   "cell_type": "code",
   "source": [
    "from imblearn.under_sampling import RandomUnderSampler\n",
    "rus = RandomUnderSampler(sampling_strategy=0.2)"
   ],
   "id": "4e215ada0a3b35f0",
   "outputs": [],
   "execution_count": 70
  },
  {
   "metadata": {
    "ExecuteTime": {
     "end_time": "2024-08-18T13:27:20.270664Z",
     "start_time": "2024-08-18T13:27:19.472725Z"
    }
   },
   "cell_type": "code",
   "source": "X_res, y_res = rus.fit_resample(X_train, y_train)",
   "id": "abfeeb2cd317f5dd",
   "outputs": [],
   "execution_count": 105
  },
  {
   "metadata": {
    "ExecuteTime": {
     "end_time": "2024-08-18T13:27:23.650607Z",
     "start_time": "2024-08-18T13:27:23.646365Z"
    }
   },
   "cell_type": "code",
   "source": "len(X_res)",
   "id": "980b005525974c08",
   "outputs": [
    {
     "data": {
      "text/plain": [
       "36570"
      ]
     },
     "execution_count": 106,
     "metadata": {},
     "output_type": "execute_result"
    }
   ],
   "execution_count": 106
  },
  {
   "metadata": {
    "ExecuteTime": {
     "end_time": "2024-08-18T13:26:28.076551Z",
     "start_time": "2024-08-18T13:26:28.072102Z"
    }
   },
   "cell_type": "code",
   "source": "from sklearn.linear_model import LogisticRegression",
   "id": "a001a4f16750c12c",
   "outputs": [],
   "execution_count": 100
  },
  {
   "metadata": {},
   "cell_type": "markdown",
   "source": "Logistic Regression",
   "id": "edb9603aa0c3b5"
  },
  {
   "metadata": {
    "ExecuteTime": {
     "end_time": "2024-08-18T13:27:46.025438Z",
     "start_time": "2024-08-18T13:27:36.678027Z"
    }
   },
   "cell_type": "code",
   "source": [
    "from sklearn.metrics import confusion_matrix, average_precision_score\n",
    "\n",
    "clf = LogisticRegression()\n",
    "clf.fit(X_res, y_res)\n",
    "y_pred = clf.predict(X_test)\n",
    "y_predtrain = clf.predict(X_train)\n",
    "CM_LR = confusion_matrix(y_test,y_pred)\n",
    "CR_LR = classification_report(y_test,y_pred)\n",
    "CM_LRtrain = confusion_matrix(y_train,y_predtrain)\n",
    "CR_LRtrain = classification_report(y_train,y_predtrain)\n",
    "print(\"Accuracy:\", accuracy_score(y_test, y_pred))\n",
    "print(\"Confusion Matrix:\\n\",CM_LR)\n",
    "print(\"Classification Report:\\n\",CR_LR)\n",
    "print(\"Confusion Matrix Train:\\n\",CM_LRtrain)\n",
    "print(\"Classification Report Train:\\n\",CR_LRtrain)\n",
    "print(\"Precision:\", precision_score(y_test, y_pred))\n",
    "print(\"Recall:\", recall_score(y_test, y_pred))\n",
    "print(\"F1:\", f1_score(y_test, y_pred))\n",
    "print(\"Area under precision (AUC) Recall:\", average_precision_score(y_test, y_pred))"
   ],
   "id": "3a11e8c2efbff614",
   "outputs": [
    {
     "name": "stdout",
     "output_type": "stream",
     "text": [
      "Accuracy: 0.9939408608403456\n",
      "Confusion Matrix:\n",
      " [[1580364    8173]\n",
      " [   1465     653]]\n",
      "Classification Report:\n",
      "               precision    recall  f1-score   support\n",
      "\n",
      "           0       1.00      0.99      1.00   1588537\n",
      "           1       0.07      0.31      0.12      2118\n",
      "\n",
      "    accuracy                           0.99   1590655\n",
      "   macro avg       0.54      0.65      0.56   1590655\n",
      "weighted avg       1.00      0.99      1.00   1590655\n",
      "\n",
      "Confusion Matrix Train:\n",
      " [[4741712   24158]\n",
      " [   4131    1964]]\n",
      "Classification Report Train:\n",
      "               precision    recall  f1-score   support\n",
      "\n",
      "           0       1.00      0.99      1.00   4765870\n",
      "           1       0.08      0.32      0.12      6095\n",
      "\n",
      "    accuracy                           0.99   4771965\n",
      "   macro avg       0.54      0.66      0.56   4771965\n",
      "weighted avg       1.00      0.99      1.00   4771965\n",
      "\n",
      "Precision: 0.07398595060049852\n",
      "Recall: 0.3083097261567517\n",
      "F1: 0.11933479532163743\n",
      "Area under precision (AUC) Recall: 0.023731592409478194\n"
     ]
    }
   ],
   "execution_count": 108
  },
  {
   "metadata": {},
   "cell_type": "markdown",
   "source": "Naive Bias Classifier",
   "id": "509ea5cc0d0f1b75"
  },
  {
   "metadata": {
    "ExecuteTime": {
     "end_time": "2024-08-18T13:45:18.215140Z",
     "start_time": "2024-08-18T13:45:07.778323Z"
    }
   },
   "cell_type": "code",
   "source": [
    "from sklearn.naive_bayes import BernoulliNB\n",
    "\n",
    "clf = BernoulliNB()\n",
    "clf.fit(X_res, y_res)\n",
    "y_pred = clf.predict(X_test)\n",
    "y_predtrain = clf.predict(X_train)\n",
    "CM_NB = confusion_matrix(y_test,y_pred)\n",
    "CR_NB = classification_report(y_test,y_pred)\n",
    "CM_NBtrain = confusion_matrix(y_train,y_predtrain)\n",
    "CR_NBtrain = classification_report(y_train,y_predtrain)\n",
    "print(\"Accuracy:\", accuracy_score(y_test, y_pred))\n",
    "print(\"Confusion Matrix:\\n\",CM_NB)\n",
    "print(\"Classification Report:\\n\",CR_NB)\n",
    "print(\"Confusion Matrix Train:\\n\",CM_NBtrain)\n",
    "print(\"Classification Report Train:\\n\",CR_NBtrain)\n",
    "print(\"Precision:\", precision_score(y_test, y_pred))\n",
    "print(\"Recall:\", recall_score(y_test, y_pred))\n",
    "print(\"F1:\", f1_score(y_test, y_pred))\n",
    "print(\"Area under precision (AUC) Recall:\", average_precision_score(y_test, y_pred))"
   ],
   "id": "b4139b720360c864",
   "outputs": [
    {
     "name": "stdout",
     "output_type": "stream",
     "text": [
      "Accuracy: 0.9067981429033951\n",
      "Confusion Matrix:\n",
      " [[1441082  147455]\n",
      " [    797    1321]]\n",
      "Classification Report:\n",
      "               precision    recall  f1-score   support\n",
      "\n",
      "           0       1.00      0.91      0.95   1588537\n",
      "           1       0.01      0.62      0.02      2118\n",
      "\n",
      "    accuracy                           0.91   1590655\n",
      "   macro avg       0.50      0.77      0.48   1590655\n",
      "weighted avg       1.00      0.91      0.95   1590655\n",
      "\n",
      "Confusion Matrix Train:\n",
      " [[4322868  443002]\n",
      " [   2251    3844]]\n",
      "Classification Report Train:\n",
      "               precision    recall  f1-score   support\n",
      "\n",
      "           0       1.00      0.91      0.95   4765870\n",
      "           1       0.01      0.63      0.02      6095\n",
      "\n",
      "    accuracy                           0.91   4771965\n",
      "   macro avg       0.50      0.77      0.48   4771965\n",
      "weighted avg       1.00      0.91      0.95   4771965\n",
      "\n",
      "Precision: 0.00887912028821853\n",
      "Recall: 0.6237016052880076\n",
      "F1: 0.017508979813644014\n",
      "Area under precision (AUC) Recall: 0.006038973030953667\n"
     ]
    }
   ],
   "execution_count": 117
  },
  {
   "metadata": {},
   "cell_type": "markdown",
   "source": "Stocastic Grad Classifier",
   "id": "d092e527f9da39e0"
  },
  {
   "metadata": {
    "ExecuteTime": {
     "end_time": "2024-08-18T13:27:55.375383Z",
     "start_time": "2024-08-18T13:27:46.026443Z"
    }
   },
   "cell_type": "code",
   "source": [
    "from sklearn.linear_model import SGDClassifier\n",
    "clf = SGDClassifier(loss=\"hinge\", penalty=\"l2\", max_iter=5)\n",
    "clf.fit(X_res, y_res)\n",
    "y_pred=clf.predict(X_test)\n",
    "y_predtrain=clf.predict(X_train)\n",
    "SGDClassifier(max_iter=5)\n",
    "CM_svc = confusion_matrix(y_test,y_pred)\n",
    "CR_svc = classification_report(y_test,y_pred)\n",
    "CM_svctrain = confusion_matrix(y_train,y_predtrain)\n",
    "CR_svctrain = classification_report(y_train,y_predtrain)\n",
    "print(\"Accuracy:\", accuracy_score(y_test, y_pred))\n",
    "print(\"Confusion Matrix:\\n\",CM_svc)\n",
    "print(\"Classification Report:\\n\",CR_svc)\n",
    "print(\"Confusion Matrix Train:\\n\",CM_svctrain)\n",
    "print(\"Classification Report Train:\\n\",CR_svctrain)\n",
    "print(\"Precision:\", precision_score(y_test, y_pred))\n",
    "print(\"Recall:\", recall_score(y_test, y_pred))\n",
    "print(\"F1:\", f1_score(y_test, y_pred))\n",
    "print(\"Area under precision (AUC) Recall:\", average_precision_score(y_test, y_pred))"
   ],
   "id": "3838bb8c0cf37124",
   "outputs": [
    {
     "name": "stdout",
     "output_type": "stream",
     "text": [
      "Accuracy: 0.9980265991053999\n",
      "Confusion Matrix:\n",
      " [[1587109    1428]\n",
      " [   1711     407]]\n",
      "Classification Report:\n",
      "               precision    recall  f1-score   support\n",
      "\n",
      "           0       1.00      1.00      1.00   1588537\n",
      "           1       0.22      0.19      0.21      2118\n",
      "\n",
      "    accuracy                           1.00   1590655\n",
      "   macro avg       0.61      0.60      0.60   1590655\n",
      "weighted avg       1.00      1.00      1.00   1590655\n",
      "\n",
      "Confusion Matrix Train:\n",
      " [[4761683    4187]\n",
      " [   4956    1139]]\n",
      "Classification Report Train:\n",
      "               precision    recall  f1-score   support\n",
      "\n",
      "           0       1.00      1.00      1.00   4765870\n",
      "           1       0.21      0.19      0.20      6095\n",
      "\n",
      "    accuracy                           1.00   4771965\n",
      "   macro avg       0.61      0.59      0.60   4771965\n",
      "weighted avg       1.00      1.00      1.00   4771965\n",
      "\n",
      "Precision: 0.2217983651226158\n",
      "Recall: 0.19216241737488196\n",
      "F1: 0.20591955476853022\n",
      "Area under precision (AUC) Recall: 0.043696967523915504\n"
     ]
    }
   ],
   "execution_count": 109
  },
  {
   "metadata": {},
   "cell_type": "markdown",
   "source": "Random Forest Classfier",
   "id": "7e1c7f6c716eecbc"
  },
  {
   "metadata": {
    "ExecuteTime": {
     "end_time": "2024-08-18T13:29:28.379685Z",
     "start_time": "2024-08-18T13:28:55.355712Z"
    }
   },
   "cell_type": "code",
   "source": [
    "RF = RandomForestClassifier(n_estimators=15,oob_score=True,class_weight='balanced',n_jobs=-1)\n",
    "\n",
    "\n",
    "RF.fit(X_train, y_train)\n",
    "\n",
    "y_pred= RF.predict(X_test)\n",
    "y_predtrain=RF.predict(X_train) \n",
    "     \n",
    "# Evaluating model\n",
    "CM_RF_train=confusion_matrix(y_train,y_predtrain)\n",
    "CR_RF_train= classification_report(y_train,y_predtrain)\n",
    "CM_RF = confusion_matrix(y_test,y_pred)\n",
    "CR_RF = classification_report(y_test,y_pred)\n",
    "print(\"Accuracy:\", accuracy_score(y_test, y_pred))\n",
    "print(\"Confusion Matrix:\\n\",CM_RF)\n",
    "print(\"Classification Report:\\n\",CR_RF)\n",
    "print(\"Confusion Matrix Train Data:\\n\",CM_RF_train)\n",
    "print(\"Classification Report Train Data:\\n\",CR_RF_train)\n",
    "print(\"Precision:\", precision_score(y_test, y_pred))\n",
    "print(\"Recall:\", recall_score(y_test, y_pred))\n",
    "print(\"F1:\", f1_score(y_test, y_pred))\n",
    "print(\"Area under precision (AUC) Recall:\", average_precision_score(y_test, y_pred))"
   ],
   "id": "1f6c3c50d2516686",
   "outputs": [
    {
     "name": "stdout",
     "output_type": "stream",
     "text": [
      "Accuracy: 0.9996655465830114\n",
      "Confusion Matrix:\n",
      " [[1588504      33]\n",
      " [    499    1619]]\n",
      "Classification Report:\n",
      "               precision    recall  f1-score   support\n",
      "\n",
      "           0       1.00      1.00      1.00   1588537\n",
      "           1       0.98      0.76      0.86      2118\n",
      "\n",
      "    accuracy                           1.00   1590655\n",
      "   macro avg       0.99      0.88      0.93   1590655\n",
      "weighted avg       1.00      1.00      1.00   1590655\n",
      "\n",
      "Confusion Matrix Train Data:\n",
      " [[4765865       5]\n",
      " [    123    5972]]\n",
      "Classification Report Train Data:\n",
      "               precision    recall  f1-score   support\n",
      "\n",
      "           0       1.00      1.00      1.00   4765870\n",
      "           1       1.00      0.98      0.99      6095\n",
      "\n",
      "    accuracy                           1.00   4771965\n",
      "   macro avg       1.00      0.99      0.99   4771965\n",
      "weighted avg       1.00      1.00      1.00   4771965\n",
      "\n",
      "Precision: 0.9800242130750605\n",
      "Recall: 0.7644003777148253\n",
      "F1: 0.8588859416445622\n",
      "Area under precision (AUC) Recall: 0.7494445858906366\n"
     ]
    }
   ],
   "execution_count": 110
  },
  {
   "metadata": {},
   "cell_type": "markdown",
   "source": "When using entire training data for training RandomForest model the model classifies only a very small fraction as Fraud but misclassifies more than 20% Fraud transactions as non-Fraud which is not desirable. Hence we train our RandomForest Classifier using undersampled training data to minimize misclassification of Fraud transactions allowing misclassification of non-Fraud transactions to some extent.",
   "id": "46aa603b3fe3b1ff"
  },
  {
   "metadata": {
    "ExecuteTime": {
     "end_time": "2024-08-18T13:36:54.750263Z",
     "start_time": "2024-08-18T13:36:44.585241Z"
    }
   },
   "cell_type": "code",
   "source": [
    "RF = RandomForestClassifier(n_estimators=15,oob_score=True,n_jobs=-1)\n",
    "\n",
    "\n",
    "RF.fit(X_res, y_res)\n",
    "\n",
    "y_pred= RF.predict(X_test)\n",
    "y_predtrain=RF.predict(X_train) \n",
    "     \n",
    "# Evaluating model\n",
    "CM_RF_train=confusion_matrix(y_train,y_predtrain)\n",
    "CR_RF_train= classification_report(y_train,y_predtrain)\n",
    "CM_RF = confusion_matrix(y_test,y_pred)\n",
    "CR_RF = classification_report(y_test,y_pred)\n",
    "print(\"Accuracy:\", accuracy_score(y_test, y_pred))\n",
    "print(\"Confusion Matrix:\\n\",CM_RF)\n",
    "print(\"Classification Report:\\n\",CR_RF)\n",
    "print(\"Confusion Matrix Train Data:\\n\",CM_RF_train)\n",
    "print(\"Classification Report Train Data:\\n\",CR_RF_train)\n",
    "print(\"Precision:\", precision_score(y_test, y_pred))\n",
    "print(\"Recall:\", recall_score(y_test, y_pred))\n",
    "print(\"F1:\", f1_score(y_test, y_pred))\n",
    "print(\"Area under precision (AUC) Recall:\", average_precision_score(y_test, y_pred))"
   ],
   "id": "a7fa93d9387d9a49",
   "outputs": [
    {
     "name": "stdout",
     "output_type": "stream",
     "text": [
      "Accuracy: 0.9952296381050574\n",
      "Confusion Matrix:\n",
      " [[1581013    7524]\n",
      " [     64    2054]]\n",
      "Classification Report:\n",
      "               precision    recall  f1-score   support\n",
      "\n",
      "           0       1.00      1.00      1.00   1588537\n",
      "           1       0.21      0.97      0.35      2118\n",
      "\n",
      "    accuracy                           1.00   1590655\n",
      "   macro avg       0.61      0.98      0.67   1590655\n",
      "weighted avg       1.00      1.00      1.00   1590655\n",
      "\n",
      "Confusion Matrix Train Data:\n",
      " [[4743776   22094]\n",
      " [      4    6091]]\n",
      "Classification Report Train Data:\n",
      "               precision    recall  f1-score   support\n",
      "\n",
      "           0       1.00      1.00      1.00   4765870\n",
      "           1       0.22      1.00      0.36      6095\n",
      "\n",
      "    accuracy                           1.00   4771965\n",
      "   macro avg       0.61      1.00      0.68   4771965\n",
      "weighted avg       1.00      1.00      1.00   4771965\n",
      "\n",
      "Precision: 0.21444978074754645\n",
      "Recall: 0.9697828139754485\n",
      "F1: 0.35123119015047877\n",
      "Area under precision (AUC) Recall: 0.20800994682730603\n"
     ]
    }
   ],
   "execution_count": 111
  },
  {
   "metadata": {},
   "cell_type": "markdown",
   "source": "Conf Matrix and Classification Report of Random Forest Clasfier model\n",
   "id": "c736fbdcf0d6ae1d"
  },
  {
   "metadata": {
    "ExecuteTime": {
     "end_time": "2024-08-18T13:38:02.211365Z",
     "start_time": "2024-08-18T13:38:02.207358Z"
    }
   },
   "cell_type": "code",
   "source": [
    "\n",
    "\n",
    "print(\"Confusion Matrix:\\n\",CM_RF)\n",
    "print(\"Classification Report:\\n\",CR_RF)\n",
    "print(\"Confusion Matrix Train Data:\\n\",CM_RF_train)\n",
    "print(\"Classification Report Train Data:\\n\",CR_RF_train)\n",
    "\n"
   ],
   "id": "1e5dd7eaaabbd453",
   "outputs": [
    {
     "name": "stdout",
     "output_type": "stream",
     "text": [
      "Confusion Matrix:\n",
      " [[1581013    7524]\n",
      " [     64    2054]]\n",
      "Classification Report:\n",
      "               precision    recall  f1-score   support\n",
      "\n",
      "           0       1.00      1.00      1.00   1588537\n",
      "           1       0.21      0.97      0.35      2118\n",
      "\n",
      "    accuracy                           1.00   1590655\n",
      "   macro avg       0.61      0.98      0.67   1590655\n",
      "weighted avg       1.00      1.00      1.00   1590655\n",
      "\n",
      "Confusion Matrix Train Data:\n",
      " [[4743776   22094]\n",
      " [      4    6091]]\n",
      "Classification Report Train Data:\n",
      "               precision    recall  f1-score   support\n",
      "\n",
      "           0       1.00      1.00      1.00   4765870\n",
      "           1       0.22      1.00      0.36      6095\n",
      "\n",
      "    accuracy                           1.00   4771965\n",
      "   macro avg       0.61      1.00      0.68   4771965\n",
      "weighted avg       1.00      1.00      1.00   4771965\n",
      "\n"
     ]
    }
   ],
   "execution_count": 112
  }
 ],
 "metadata": {
  "kernelspec": {
   "display_name": "Python 3",
   "language": "python",
   "name": "python3"
  },
  "language_info": {
   "codemirror_mode": {
    "name": "ipython",
    "version": 2
   },
   "file_extension": ".py",
   "mimetype": "text/x-python",
   "name": "python",
   "nbconvert_exporter": "python",
   "pygments_lexer": "ipython2",
   "version": "2.7.6"
  }
 },
 "nbformat": 4,
 "nbformat_minor": 5
}
